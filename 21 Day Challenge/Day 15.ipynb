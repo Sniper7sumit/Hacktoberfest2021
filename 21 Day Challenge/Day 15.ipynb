{
 "cells": [
  {
   "cell_type": "markdown",
   "metadata": {},
   "source": [
    "Dot already has a few seeds they can use for their garden. They need to figure out which of the seeds will produce the biggest potential harvest. Can you help Dot decide which seeds are best, by using data visualization?\n",
    "\n",
    "Create a bar graph with Matplotlib that shows each vegetable and the size of the potential harvest that Dot can expect from them.\n",
    "\n",
    "Which of Dot's seeds will produce the largest harvest?\n"
   ]
  },
  {
   "cell_type": "code",
   "execution_count": null,
   "metadata": {},
   "outputs": [],
   "source": [
    "import pandas as pd\n",
    "import matplotlib.pyplot as plt\n",
    "\n",
    "seeds = {\n",
    "    'Vegetable' : ['Carrots', 'Tomatoes', 'Potatoes', 'Eggplant', 'Cucumbers'],\n",
    "    'Seeds_Count' : [300,10,90,100,15],\n",
    "    'Each_Seed_Produces': [1,140,10,5, 90]\n",
    "}\n",
    "\n",
    "df = pd.DataFrame(seeds)\n",
    "df\n",
    "\n",
    "#Vegetable\tSeeds_Count\tEach_Seed_Produces\n",
    "#0\tCarrots\t300\t1\n",
    "#1\tTomatoes\t10\t140\n",
    "#2\tPotatoes\t90\t10\n",
    "#3\tEggplant\t100\t5\n",
    "#4\tCucumbers\t15\t90"
   ]
  },
  {
   "cell_type": "code",
   "execution_count": null,
   "metadata": {},
   "outputs": [],
   "source": [
    "#Solution\n",
    "df['potential_harvest'] = df.Seeds_Count * df.Each_Seed_Produces\n",
    "df\n",
    "\n",
    "#Vegetable\tSeeds_Count\tEach_Seed_Produces\tpotential_harvest\n",
    "#0\tCarrots\t300\t1\t300\n",
    "#1\tTomatoes\t10\t140\t1400\n",
    "#2\tPotatoes\t90\t10\t900\n",
    "#3\tEggplant\t100\t5\t500\n",
    "#4\tCucumbers\t15\t90\t1350"
   ]
  },
  {
   "cell_type": "code",
   "execution_count": null,
   "metadata": {},
   "outputs": [],
   "source": [
    "plt.figure()\n",
    "plt.bar(x = df['Vegetable'], height = df['potential_harvest'])\n",
    "plt.title('Potential Harvest')\n",
    "plt.show()\n",
    "\n"
   ]
  }
 ],
 "metadata": {
  "kernelspec": {
   "display_name": "Python 3",
   "language": "python",
   "name": "python3"
  },
  "language_info": {
   "codemirror_mode": {
    "name": "ipython",
    "version": 3
   },
   "file_extension": ".py",
   "mimetype": "text/x-python",
   "name": "python",
   "nbconvert_exporter": "python",
   "pygments_lexer": "ipython3",
   "version": "3.7.3"
  }
 },
 "nbformat": 4,
 "nbformat_minor": 2
}
