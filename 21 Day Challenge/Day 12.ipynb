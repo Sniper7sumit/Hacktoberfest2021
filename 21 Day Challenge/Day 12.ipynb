{
 "cells": [
  {
   "cell_type": "markdown",
   "metadata": {},
   "source": [
    "Challenge\n",
    "Examining the numbers, Dot understands that the prices of both conventional and organic avocados rise and fall frequently. No matter how they grow the avocados, they don't want to sell them for less than $2.\n",
    "\n",
    "Looking at recent years, Dot needs you to help them find: in which year or years did both conventional and organic avocados have had average prices above $2?"
   ]
  },
  {
   "cell_type": "code",
   "execution_count": null,
   "metadata": {},
   "outputs": [],
   "source": [
    "import pandas as pd\n",
    "\n",
    "df = pd.read_csv('avocado.csv', index_col = 0)\n",
    "df.head()\n",
    "\n",
    "#\tDate\tAveragePrice\tTotal Volume\tTotal Bags\tSmall Bags\tLarge Bags\tXLarge Bags\ttype\tyear\tregion\n",
    "#0\t2015-12-27\t1.33\t64236.62\t8696.87\t8603.62\t93.25\t0.0\tconventional\t2015\tAlbany\n",
    "#1\t2015-12-20\t1.35\t54876.98\t9505.56\t9408.07\t97.49\t0.0\tconventional\t2015\tAlbany\n",
    "#2\t2015-12-13\t0.93\t118220.22\t8145.35\t8042.21\t103.14\t0.0\tconventional\t2015\tAlbany\n",
    "#3\t2015-12-06\t1.08\t78992.15\t5811.16\t5677.40\t133.76\t0.0\tconventional\t2015\tAlbany\n",
    "#4\t2015-11-29\t1.28\t51039.60\t6183.95\t5986.26\t197.69\t0.0\tconventional\t2015\tAlbany"
   ]
  },
  {
   "cell_type": "code",
   "execution_count": null,
   "metadata": {},
   "outputs": [],
   "source": [
    "#Solution\n",
    "user_filter = df['AveragePrice'] >= 2\n",
    "\n",
    "filtered_df = df[user_filter]\n",
    "\n",
    "filtered_df\n",
    "\n",
    "\n",
    "#\tDate\tAveragePrice\tTotal Volume\tTotal Bags\tSmall Bags\tLarge Bags\tXLarge Bags\ttype\tyear\tregion\n",
    "#7\t2016-11-06\t2.07\t376476.71\t59042.39\t57803.54\t1095.69\t143.16\tconventional\t2016\tChicago\n",
    "#8\t2016-10-30\t2.07\t375213.57\t54407.20\t48140.45\t1587.11\t4679.64\tconventional\t2016\tChicago\n",
    "#7\t2016-11-06\t2.07\t492504.81\t74657.63\t74025.26\t103.20\t529.17\tconventional\t2016\tSanFrancisco\n",
    "#8\t2016-10-30\t2.20\t477937.80\t59465.15\t57223.44\t269.21\t1972.50\tconventional\t2016\tSanFrancisco\n",
    "#10\t2017-10-22\t2.06\t519814.03\t64007.37\t59543.29\t4441.86\t22.22\tconventional\t2017\tChicago\n",
    "#...\t...\t...\t...\t...\t...\t...\t...\t...\t...\t...\n",
    "#6\t2018-02-11\t2.22\t21708.65\t2533.33\t2533.33\t0.00\t0.00\torganic\t2018\tSanFrancisco\n",
    "#8\t2018-01-28\t2.27\t20325.75\t2148.89\t2148.89\t0.00\t0.00\torganic\t2018\tSanFrancisco\n",
    "#11\t2018-01-07\t2.30\t20151.24\t1943.34\t1943.34\t0.00\t0.00\torganic\t2018\tSanFrancisco\n",
    "#9\t2018-01-21\t2.02\t33986.68\t20402.90\t1469.79\t18905.41\t27.70\torganic\t2018\tSeattle\n",
    "#10\t2018-01-14\t2.03\t36228.45\t16701.50\t1630.19\t15063.98\t7.33\torganic\t2018\tSeattle"
   ]
  },
  {
   "cell_type": "code",
   "execution_count": null,
   "metadata": {},
   "outputs": [],
   "source": [
    "filtered_df.groupby(['year','type']).count()\n",
    "\n",
    "#Date\tAveragePrice\tTotal Volume\tTotal Bags\tSmall Bags\tLarge Bags\tXLarge Bags\tregion\n",
    "#year\ttype\t\t\t\t\t\t\t\t\n",
    "#2015\torganic\t295\t295\t295\t295\t295\t295\t295\t295\n",
    "#2016\tconventional\t4\t4\t4\t4\t4\t4\t4\t4\n",
    "#organic\t371\t371\t371\t371\t371\t371\t371\t371\n",
    "#2017\tconventional\t19\t19\t19\t19\t19\t19\t19\t19\n",
    "#organic\t731\t731\t731\t731\t731\t731\t731\t731\n",
    "#2018\torganic\t24\t24\t24\t24\t24\t24\t24\t24"
   ]
  }
 ],
 "metadata": {
  "kernelspec": {
   "display_name": "Python 3",
   "language": "python",
   "name": "python3"
  },
  "language_info": {
   "codemirror_mode": {
    "name": "ipython",
    "version": 3
   },
   "file_extension": ".py",
   "mimetype": "text/x-python",
   "name": "python",
   "nbconvert_exporter": "python",
   "pygments_lexer": "ipython3",
   "version": "3.7.3"
  }
 },
 "nbformat": 4,
 "nbformat_minor": 2
}
