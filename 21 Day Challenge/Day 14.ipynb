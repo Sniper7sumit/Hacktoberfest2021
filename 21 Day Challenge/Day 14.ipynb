{
 "cells": [
  {
   "cell_type": "markdown",
   "metadata": {},
   "source": [
    "Challenge\n",
    "Dot's neighbour said that he only likes wine from Stellenbosch, Bordeaux, and the Okanagan Valley, and that the sulfates can't be that high. The problem is, Dot can't really afford to spend tons of money on the wine. Dot's conditions for searching for wine are:\n",
    "\n",
    "Sulfates cannot be higher than 0.6.\n",
    "The price has to be less than $20.\n",
    "Use the above conditions to filter the data for questions 2 and 3 below.\n",
    "\n",
    "Questions:\n",
    "\n",
    "Where is Stellenbosch, anyway? How many wines from Stellenbosch are there in the entire dataset?\n",
    "After filtering with the 2 conditions, what is the average price of wine from the Bordeaux region?\n",
    "After filtering with the 2 conditions, what is the least expensive wine that's of the highest quality from the Okanagan Valley?\n",
    "Stretch Question:\n",
    "\n",
    "What is the average price of wine from Stellenbosch, according to the entire unfiltered dataset?\n",
    "Note: Check the dataset to see if there are missing values; if there are, fill in missing values with the mean."
   ]
  },
  {
   "cell_type": "code",
   "execution_count": null,
   "metadata": {},
   "outputs": [],
   "source": [
    "import pandas as pd\n",
    "df = pd.read_csv('winequality-red_2.csv')\n",
    "df = df.drop(columns = ['Unnamed: 0'])\n",
    "\n",
    "df.head()\n",
    "\n",
    "#fixed acidity\tvolatile acidity\tcitric acid\tresidual sugar\tchlorides\tfree sulfur dioxide\ttotal sulfur dioxide\tdensity\tpH\tsulphates\talcohol\tquality\tregion\tprice\n",
    "#0\t7.4\t0.70\t0.00\t1.9\t0.076\t11.0\t34.0\t0.9978\t3.51\t0.56\t9.4\t5\tColchagua Valley\t64\n",
    "#1\t7.8\t0.88\t0.00\t2.6\t0.098\t25.0\t67.0\t0.9968\t3.20\t0.68\t9.8\t5\tBordeaux\t89\n",
    "#2\t7.8\t0.76\t0.04\t2.3\t0.092\t15.0\t54.0\t0.9970\t3.26\t0.65\t9.8\t5\tLa Rjoja\t25\n",
    "#3\t11.2\t0.28\t0.56\t1.9\t0.075\t17.0\t60.0\t0.9980\t3.16\t0.58\t9.8\t6\tWillamette\t27\n",
    "#4\t7.4\t0.70\t0.00\t1.9\t0.076\t11.0\t34.0\t0.9978\t3.51\t0.56\t9.4\t5\tMarlborough\t9\n"
   ]
  },
  {
   "cell_type": "code",
   "execution_count": null,
   "metadata": {},
   "outputs": [],
   "source": [
    "#Solutions\n",
    "#Q1\n",
    "df['region'].value_counts()\n",
    "\n",
    "#La Rjoja            341\n",
    "#Bordeaux            264\n",
    "#Colchagua Valley    260\n",
    "#Okanagan Valley     256\n",
    "#Willamette          233\n",
    "#Marlborough         210\n",
    "#Stellenbosch         35\n",
    "#Name: region, dtype: int64"
   ]
  },
  {
   "cell_type": "code",
   "execution_count": null,
   "metadata": {},
   "outputs": [],
   "source": [
    "#Q2\n",
    "filter_sulhpates = df['sulphates'] <= 0.6\n",
    "filtered_df = df[filter_sulhpates]\n",
    "\n",
    "filter_quality = filtered_df['price'] < 20\n",
    "filtered_df = filtered_df[filter_quality]\n",
    "\n",
    "iltered_df.groupby(['region']).mean()\n",
    "#Answer is $11.714\n",
    "\n",
    "#\tfixed acidity\tvolatile acidity\tcitric acid\tresidual sugar\tchlorides\tfree sulfur dioxide\ttotal sulfur dioxide\tdensity\tpH\tsulphates\talcohol\tquality\tprice\n",
    "#region\t\t\t\t\t\t\t\t\t\t\t\t\t\n",
    "#Bordeaux\t7.680000\t0.614250\t0.210000\t2.785000\t0.082800\t12.350000\t34.350000\t0.996007\t3.328500\t0.550000\t10.295000\t5.550000\t11.300000\n",
    "#Colchagua Valley\t8.250000\t0.659000\t0.250000\t2.070000\t0.096400\t9.400000\t44.100000\t0.996521\t3.285000\t0.555000\t10.150000\t5.000000\t13.200000\n",
    "#La Rjoja\t8.424138\t0.634483\t0.244483\t3.415517\t0.085724\t18.706897\t62.051724\t0.997101\t3.276552\t0.545517\t10.196552\t5.241379\t12.241379\n",
    "#Marlborough\t7.100000\t0.764000\t0.106000\t2.366667\t0.081667\t18.800000\t45.000000\t0.995860\t3.460667\t0.548667\t10.380000\t5.333333\t9.333333\n",
    "#Okanagan Valley\t7.826667\t0.537000\t0.171333\t2.303333\t0.075733\t16.733333\t48.466667\t0.995837\t3.320667\t0.542667\t10.746667\t5.533333\t10.400000\n",
    "#Stellenbosch\t8.666667\t0.336667\t0.356667\t5.866667\t0.064000\t18.000000\t71.666667\t0.996373\t3.226667\t0.543333\t10.200000\t4.333333\t17.333333\n",
    "#Willamette\t7.600000\t0.616765\t0.155882\t2.282353\t0.078353\t13.529412\t40.176471\t0.996150\t3.374706\t0.551176\t10.505882\t5.411765\t11.647059"
   ]
  },
  {
   "cell_type": "code",
   "execution_count": null,
   "metadata": {},
   "outputs": [],
   "source": [
    "#Q3\n",
    "filter_region = df['region'] == 'Okanagan Valley'\n",
    "filtered_df = filtered_df[filter_region]\n",
    "filtered_df.sort_values(by=['quality', 'price'], ascending = [False,True])\n",
    "\n",
    "#fixed acidity\tvolatile acidity\tcitric acid\tresidual sugar\tchlorides\tfree sulfur dioxide\ttotal sulfur dioxide\tdensity\tpH\tsulphates\talcohol\tquality\tregion\tprice\n",
    "#1025\t8.6\t0.830\t0.00\t2.80\t0.095\t17.0\t43.0\t0.99822\t3.33\t0.60\t10.4\t6\tOkanagan Valley\t4\n",
    "#1017\t8.0\t0.180\t0.37\t0.90\t0.049\t36.0\t109.0\t0.99007\t2.89\t0.44\t12.7\t6\tOkanagan Valley\t5\n",
    "#1127\t6.3\t0.760\t0.00\t2.90\t0.072\t26.0\t52.0\t0.99379\t3.51\t0.60\t11.5\t6\tOkanagan Valley\t5\n",
    "#1490\t7.1\t0.220\t0.49\t1.80\t0.039\t8.0\t18.0\t0.99344\t3.39\t0.56\t12.4\t6\tOkanagan Valley\t5\n",
    "#884\t8.8\t0.610\t0.19\t4.00\t0.094\t30.0\t69.0\t0.99787\t3.22\t0.50\t10.0\t6\tOkanagan Valley\t9\n",
    "#788\t10.0\t0.560\t0.24\t2.20\t0.079\t19.0\t58.0\t0.99910\t3.18\t0.56\t10.1\t6\tOkanagan Valley\t13\n",
    "#300\t7.5\t0.530\t0.06\t2.60\t0.086\t20.0\t44.0\t0.99650\t3.38\t0.59\t10.7\t6\tOkanagan Valley\t17\n",
    "#999\t6.4\t0.690\t0.00\t1.65\t0.055\t7.0\t12.0\t0.99162\t3.47\t0.53\t12.9\t6\tOkanagan Valley\t18\n",
    "#189\t7.9\t0.490\t0.32\t1.90\t0.082\t17.0\t144.0\t0.99680\t3.20\t0.55\t9.5\t5\tOkanagan Valley\t4\n",
    "#725\t9.0\t0.660\t0.17\t3.00\t0.077\t5.0\t13.0\t0.99760\t3.29\t0.55\t10.4\t5\tOkanagan Valley\t5\n",
    "#5\t7.4\t0.660\t0.00\t1.80\t0.075\t13.0\t40.0\t0.99780\t3.51\t0.56\t9.4\t5\tOkanagan Valley\t10\n",
    "#1272\t5.9\t0.460\t0.00\t1.90\t0.077\t25.0\t44.0\t0.99385\t3.50\t0.53\t11.2\t5\tOkanagan Valley\t11\n",
    "#252\t11.1\t0.350\t0.48\t3.10\t0.090\t5.0\t21.0\t0.99860\t3.17\t0.53\t10.5\t5\tOkanagan Valley\t15\n",
    "#1355\t6.1\t0.320\t0.25\t1.80\t0.086\t5.0\t32.0\t0.99464\t3.36\t0.44\t10.1\t5\tOkanagan Valley\t17\n",
    "#1553\t7.3\t0.735\t0.00\t2.20\t0.080\t18.0\t28.0\t0.99765\t3.41\t0.60\t9.4\t5\tOkanagan Valley\t18"
   ]
  }
 ],
 "metadata": {
  "kernelspec": {
   "display_name": "Python 3",
   "language": "python",
   "name": "python3"
  },
  "language_info": {
   "codemirror_mode": {
    "name": "ipython",
    "version": 3
   },
   "file_extension": ".py",
   "mimetype": "text/x-python",
   "name": "python",
   "nbconvert_exporter": "python",
   "pygments_lexer": "ipython3",
   "version": "3.7.3"
  }
 },
 "nbformat": 4,
 "nbformat_minor": 2
}
