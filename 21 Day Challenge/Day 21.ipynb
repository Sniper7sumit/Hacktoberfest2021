{
 "cells": [
  {
   "cell_type": "markdown",
   "metadata": {},
   "source": [
    "Challenge\n",
    "Dot wants to play retro video games with all their new friends! Help them figure out which games would be best.\n",
    "\n",
    "Questions:\n",
    "\n",
    "What is the correlation coefficient between Critic_Score and User_Score?\n",
    "\n",
    "Note: You may have to clean some of the columns and fill it with the median value (if numerical).\n",
    "Plot the top 5 best selling games released before the year 2000.\n",
    "\n",
    "Note: Use Global_Sales\n",
    "Create a new column called Aggregate_Score, which returns the proportional average between Critic Score and User_Score based on Critic_Count and User_Count. Plot a horizontal bar chart of the top 5 highest rated games by Aggregate_Score, not published by Nintendo before the year 2000. From this bar chart, what is the highest rated game by Aggregate_Score?\n",
    "\n",
    "Note: Critic_Count should be filled with the mean. User_Count should be filled with the median."
   ]
  },
  {
   "cell_type": "code",
   "execution_count": null,
   "metadata": {},
   "outputs": [],
   "source": [
    "import pandas as pd\n",
    "import matplotlib.pyplot as plt"
   ]
  },
  {
   "cell_type": "code",
   "execution_count": null,
   "metadata": {},
   "outputs": [],
   "source": [
    "df = pd.read_csv('video_games.csv')\n",
    "df.head(2)\n",
    "\n",
    "#Name\tPlatform\tYear_of_Release\tGenre\tPublisher\tNA_Sales\tEU_Sales\tJP_Sales\tOther_Sales\tGlobal_Sales\tCritic_Score\tCritic_Count\tUser_Score\tUser_Count\tDeveloper\tRating\n",
    "#0\tWii Sports\tWii\t2006.0\tSports\tNintendo\t41.36\t28.96\t3.77\t8.45\t82.53\t76.0\t51.0\t8.0\t322.0\tNintendo\tE\n",
    "#1\tSuper Mario Bros.\tNES\t1985.0\tPlatform\tNintendo\t29.08\t3.58\t6.81\t0.77\t40.24\tNaN\tNaN\t7.5\tNaN\tNaN\tNaN"
   ]
  },
  {
   "cell_type": "code",
   "execution_count": null,
   "metadata": {},
   "outputs": [],
   "source": [
    "# Solutions Q1\n",
    "df.Critic_Score.isnull().sum()\n",
    "#8582"
   ]
  },
  {
   "cell_type": "code",
   "execution_count": null,
   "metadata": {},
   "outputs": [],
   "source": [
    "df.Critic_Score.median()\n",
    "#71.0"
   ]
  },
  {
   "cell_type": "code",
   "execution_count": null,
   "metadata": {},
   "outputs": [],
   "source": [
    "#Fill in with the median \n",
    "df['Critic_Score'] =  df['Critic_Score'].fillna(value = df.Critic_Score.median())"
   ]
  },
  {
   "cell_type": "code",
   "execution_count": null,
   "metadata": {},
   "outputs": [],
   "source": [
    "plt.scatter(df.User_Score, df.Critic_Score)"
   ]
  },
  {
   "cell_type": "code",
   "execution_count": null,
   "metadata": {},
   "outputs": [],
   "source": [
    "#WHat is the correlation?\n",
    "df['User_Score'].corr(df['Critic_Score'])\n",
    "#0.47857313968321197"
   ]
  },
  {
   "cell_type": "code",
   "execution_count": null,
   "metadata": {},
   "outputs": [],
   "source": [
    "#Solution Q2\n",
    "best_selling_2000_filter = df[\"Year_of_Release\"] < 2000\n",
    "best_selling_2000 = df[best_selling_2000_filter]"
   ]
  },
  {
   "cell_type": "code",
   "execution_count": null,
   "metadata": {},
   "outputs": [],
   "source": [
    "top_5 = best_selling_2000.sort_values('Global_Sales', ascending = False).head()\n",
    "best_selling_2000.sort_values('Global_Sales', ascending = False).head()\n",
    "\n",
    "#Name\tPlatform\tYear_of_Release\tGenre\tPublisher\tNA_Sales\tEU_Sales\tJP_Sales\tOther_Sales\tGlobal_Sales\tCritic_Score\tCritic_Count\tUser_Score\tUser_Count\tDeveloper\tRating\n",
    "#1\tSuper Mario Bros.\tNES\t1985.0\tPlatform\tNintendo\t29.08\t3.58\t6.81\t0.77\t40.24\t71.0\tNaN\t7.5\tNaN\tNaN\tNaN\n",
    "#4\tPokemon Red/Pokemon Blue\tGB\t1996.0\tRole-Playing\tNintendo\t11.27\t8.89\t10.22\t1.00\t31.37\t71.0\tNaN\t7.5\tNaN\tNaN\tNaN\n",
    "#5\tTetris\tGB\t1989.0\tPuzzle\tNintendo\t23.20\t2.26\t4.22\t0.58\t30.26\t71.0\tNaN\t7.5\tNaN\tNaN\tNaN\n",
    "#9\tDuck Hunt\tNES\t1984.0\tShooter\tNintendo\t26.93\t0.63\t0.28\t0.47\t28.31\t71.0\tNaN\t7.5\tNaN\tNaN\tNaN\n",
    "#12\tPokemon Gold/Pokemon Silver\tGB\t1999.0\tRole-Playing\tNintendo\t9.00\t6.18\t7.20\t0.71\t23.10\t71.0\tNaN\t7.5\tNaN\tNaN\tNaN"
   ]
  },
  {
   "cell_type": "code",
   "execution_count": null,
   "metadata": {},
   "outputs": [],
   "source": [
    "plt.figure(figsize = (14,7))\n",
    "plt.bar(x = top_5.Name, height = top_5.Global_Sales)\n",
    "#plt.xticks(rotation = 'vertical')\n",
    "plt.show()"
   ]
  },
  {
   "cell_type": "code",
   "execution_count": null,
   "metadata": {},
   "outputs": [],
   "source": [
    "#Q3 Solution\n",
    "#Step 1: Fill in missing values with the median\n",
    "#Columns with missing values Critic_Count and User_Count"
   ]
  },
  {
   "cell_type": "code",
   "execution_count": null,
   "metadata": {},
   "outputs": [],
   "source": [
    "df.Critic_Count.isnull().sum()\n",
    "#8582"
   ]
  },
  {
   "cell_type": "code",
   "execution_count": null,
   "metadata": {},
   "outputs": [],
   "source": [
    "#Fill in with the mean\n",
    "df['Critic_Count'] =  df['Critic_Count'].fillna(value = df.Critic_Count.mean())"
   ]
  },
  {
   "cell_type": "code",
   "execution_count": null,
   "metadata": {},
   "outputs": [],
   "source": [
    "#Fill in with the median\n",
    "df['User_Count'] =  df['User_Count'].fillna(value = df.User_Count.median())"
   ]
  },
  {
   "cell_type": "code",
   "execution_count": null,
   "metadata": {},
   "outputs": [],
   "source": [
    "#Up the User_score\n",
    "df['User_Score'] = df['User_Score'] * 10"
   ]
  },
  {
   "cell_type": "code",
   "execution_count": null,
   "metadata": {},
   "outputs": [],
   "source": [
    "#Create aggregate Score\n",
    "\n",
    "df['Aggregate_Score'] = ((df['Critic_Score'] * df['Critic_Count']) + (df['User_Score'] * df['User_Count']))/(df['Critic_Count'] + df['User_Count'])"
   ]
  },
  {
   "cell_type": "code",
   "execution_count": null,
   "metadata": {},
   "outputs": [],
   "source": [
    "df[\"Aggregate_Score\"].describe()\n",
    "\n",
    "#count    16719.000000\n",
    "#mean        71.803709\n",
    "#std          8.598452\n",
    "#min         10.054054\n",
    "#25%         72.503918\n",
    "#50%         73.014029\n",
    "#75%         73.165747\n",
    "#max         94.193168\n",
    "#Name: Aggregate_Score, dtype: float64"
   ]
  },
  {
   "cell_type": "code",
   "execution_count": null,
   "metadata": {},
   "outputs": [],
   "source": [
    "nintendo_filter_year = df[\"Year_of_Release\"] < 2000\n",
    "nintendo_filter_publisher = df[\"Publisher\"] != 'Nintendo'"
   ]
  },
  {
   "cell_type": "code",
   "execution_count": null,
   "metadata": {},
   "outputs": [],
   "source": [
    "nintendo = df[nintendo_filter_year]\n",
    "nintendo = nintendo[nintendo_filter_publisher]"
   ]
  },
  {
   "cell_type": "code",
   "execution_count": null,
   "metadata": {},
   "outputs": [],
   "source": [
    "top_5_nintendo = nintendo.sort_values('Aggregate_Score', ascending = False).head()\n",
    "nintendo.sort_values('Aggregate_Score', ascending = False).head()\n",
    "\n",
    "#Name\tPlatform\tYear_of_Release\tGenre\tPublisher\tNA_Sales\tEU_Sales\tJP_Sales\tOther_Sales\tGlobal_Sales\tCritic_Score\tCritic_Count\tUser_Score\tUser_Count\tDeveloper\tRating\tAggregate_Score\n",
    "#146\tMetal Gear Solid\tPS\t1998.0\tAction\tKonami Digital Entertainment\t3.18\t1.83\t0.78\t0.24\t6.03\t94.0\t20.0\t94.0\t918.0\tKCEJ\tM\t94.000000\n",
    "#1546\tCastlevania: Symphony of the Night\tPS\t1997.0\tPlatform\tKonami Digital Entertainment\t0.58\t0.40\t0.21\t0.08\t1.27\t93.0\t12.0\t94.0\t358.0\tKonami\tT\t93.967568\n",
    "#1712\tShenmue\tDC\t1999.0\tAdventure\tSega\t0.52\t0.24\t0.38\t0.04\t1.18\t88.0\t9.0\t94.0\t201.0\tSega AM2\tT\t93.742857\n",
    "#5585\tHarvest Moon: Back to Nature\tPS\t1999.0\tSimulation\tUbisoft\t0.11\t0.07\t0.12\t0.02\t0.32\t82.0\t6.0\t93.0\t78.0\tVictor Interactive Software\tE\t92.214286\n",
    "#65\tFinal Fantasy VII\tPS\t1997.0\tRole-Playing\tSony Computer Entertainment\t3.01\t2.47\t3.28\t0.96\t9.72\t92.0\t20.0\t92.0\t1282.0\tSquareSoft\tT\t92.000000"
   ]
  },
  {
   "cell_type": "code",
   "execution_count": null,
   "metadata": {},
   "outputs": [],
   "source": [
    "plt.figure(figsize = (14,7))\n",
    "plt.barh(y = top_5_nintendo.Name, width = top_5_nintendo.Aggregate_Score)\n",
    "#plt.xticks(rotation = 'vertical')\n",
    "plt.show()"
   ]
  }
 ],
 "metadata": {
  "kernelspec": {
   "display_name": "Python 3",
   "language": "python",
   "name": "python3"
  },
  "language_info": {
   "codemirror_mode": {
    "name": "ipython",
    "version": 3
   },
   "file_extension": ".py",
   "mimetype": "text/x-python",
   "name": "python",
   "nbconvert_exporter": "python",
   "pygments_lexer": "ipython3",
   "version": "3.7.3"
  }
 },
 "nbformat": 4,
 "nbformat_minor": 2
}
