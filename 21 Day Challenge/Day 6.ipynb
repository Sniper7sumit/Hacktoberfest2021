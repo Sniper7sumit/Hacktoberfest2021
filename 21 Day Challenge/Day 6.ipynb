{
 "cells": [
  {
   "cell_type": "markdown",
   "metadata": {},
   "source": [
    "Challenge:\n",
    "There are many holes in the living room's ceiling that desperately need to be fixed. Dot's measured them, and in total there are about 100. They need to figure out how much does it cost to fix all of the holes. Differently sized holes will require differently sized patches to fix them.\n",
    "\n",
    "Size of Hole\tCost to Fix\n",
    "Small (less than 20 mm)\t$1.30\n",
    "Medium (above or equal to 20 mm AND less than 70mm)\t$1.60\n",
    "Large (above or equal to 70 mm)\t$2.10\n",
    "Dot needs you to look at the measurements and figure out the answers to the following questions:\n",
    "\n",
    "What is the average sized hole?\n",
    "What is the average cost to fix a hole?\n",
    "What is the total cost of fixing all of the holes?\n",
    "\n",
    "Note: Use a for loop and an if else statement to answer Q3.\n",
    "Stretch Question:\n",
    "\n",
    "Stretch Questions are not required to be completed to finish the challenge but are recommended to further develop your skills.\n",
    "\n",
    "What is the maximum sized hole?\n",
    "What is the minimum sized hole?"
   ]
  },
  {
   "cell_type": "code",
   "execution_count": 1,
   "metadata": {},
   "outputs": [
    {
     "data": {
      "text/plain": [
       "[9, 3, 1, 21, 35]"
      ]
     },
     "execution_count": 1,
     "metadata": {},
     "output_type": "execute_result"
    }
   ],
   "source": [
    "import random \n",
    "random.seed(34)\n",
    "\n",
    "hole_sizes = [random.randint(1, i) for i in range(1, 101)]\n",
    "random.shuffle(hole_sizes)\n",
    "\n",
    "# hole sizes in mm\n",
    "hole_sizes[:5]"
   ]
  },
  {
   "cell_type": "code",
   "execution_count": 2,
   "metadata": {},
   "outputs": [
    {
     "name": "stdout",
     "output_type": "stream",
     "text": [
      "28.39\n",
      "28.39\n"
     ]
    }
   ],
   "source": [
    "#SOLUTION\n",
    "#q1\n",
    "print(sum(hole_sizes)/len(hole_sizes))\n",
    "\n",
    "#or\n",
    "\n",
    "#Pandas version\n",
    "import pandas as pd\n",
    "hs = pd.Series(hole_sizes)\n",
    "print(hs.mean())"
   ]
  },
  {
   "cell_type": "code",
   "execution_count": 3,
   "metadata": {},
   "outputs": [
    {
     "data": {
      "text/plain": [
       "96"
      ]
     },
     "execution_count": 3,
     "metadata": {},
     "output_type": "execute_result"
    }
   ],
   "source": [
    " #STRETCH #q1\n",
    "hs.max()"
   ]
  },
  {
   "cell_type": "code",
   "execution_count": 4,
   "metadata": {},
   "outputs": [
    {
     "data": {
      "text/plain": [
       "1"
      ]
     },
     "execution_count": 4,
     "metadata": {},
     "output_type": "execute_result"
    }
   ],
   "source": [
    "# STRETCH #q2\n",
    "hs.min()"
   ]
  },
  {
   "cell_type": "code",
   "execution_count": 5,
   "metadata": {},
   "outputs": [
    {
     "name": "stdout",
     "output_type": "stream",
     "text": [
      "The amount of small holes is 44.\n",
      "The amount of small holes is 52.\n",
      "The amount of small holes is 4.\n"
     ]
    }
   ],
   "source": [
    "#Q2\n",
    "count_small = 0\n",
    "count_medium = 0\n",
    "count_large = 0 \n",
    "\n",
    "for i in hole_sizes:\n",
    "    if i < 20:\n",
    "        count_small += 1\n",
    "    elif i >= 20 and i < 70:\n",
    "        count_medium += 1       \n",
    "    else:\n",
    "        count_large += 1\n",
    "        \n",
    "print(f'The amount of small holes is {count_small}.')\n",
    "print(f'The amount of small holes is {count_medium}.')\n",
    "print(f'The amount of small holes is {count_large}.')"
   ]
  },
  {
   "cell_type": "code",
   "execution_count": 6,
   "metadata": {},
   "outputs": [
    {
     "name": "stdout",
     "output_type": "stream",
     "text": [
      "1.488\n"
     ]
    }
   ],
   "source": [
    "average_cost = ((count_small*1.3)+(count_medium*1.6)+(count_large*2.1))/ 100\n",
    "print(round(average_cost,4))"
   ]
  },
  {
   "cell_type": "code",
   "execution_count": 7,
   "metadata": {},
   "outputs": [
    {
     "name": "stdout",
     "output_type": "stream",
     "text": [
      "148.8\n"
     ]
    }
   ],
   "source": [
    "#Q3\n",
    "total_cost = 0\n",
    "\n",
    "for i in hole_sizes:\n",
    "    if i < 20:\n",
    "        total_cost += 1.3\n",
    "    elif i >= 20 and i < 70:\n",
    "        total_cost += 1.6       \n",
    "    else:\n",
    "        total_cost += 2.1\n",
    "        \n",
    "print(round(total_cost,4))"
   ]
  }
 ],
 "metadata": {
  "kernelspec": {
   "display_name": "Python 3",
   "language": "python",
   "name": "python3"
  },
  "language_info": {
   "codemirror_mode": {
    "name": "ipython",
    "version": 3
   },
   "file_extension": ".py",
   "mimetype": "text/x-python",
   "name": "python",
   "nbconvert_exporter": "python",
   "pygments_lexer": "ipython3",
   "version": "3.7.3"
  }
 },
 "nbformat": 4,
 "nbformat_minor": 2
}
