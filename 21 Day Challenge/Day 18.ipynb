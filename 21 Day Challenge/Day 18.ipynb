{
 "cells": [
  {
   "cell_type": "markdown",
   "metadata": {},
   "source": [
    "Challenge\n",
    "What are the top 5 boardgame categories in this dataset that are not targeted for young children?\n",
    "Note: For the question above, use a filter to acquire boardgames with an inteded age of 13+, there is an age column in our dataset.\n",
    "Which categories of boardgames that are not targeted for young children are the same compared to the top 5 boardgames categories in the overall dataset?"
   ]
  },
  {
   "cell_type": "code",
   "execution_count": null,
   "metadata": {},
   "outputs": [],
   "source": [
    "import pandas as pd\n",
    "import matplotlib.pyplot as plt"
   ]
  },
  {
   "cell_type": "code",
   "execution_count": null,
   "metadata": {},
   "outputs": [],
   "source": [
    "df = pd.read_csv('boardgames.csv')\n",
    "df.head(2)\n",
    "\n",
    "#rank\tbgg_url\tgame_id\tnames\tmin_players\tmax_players\tavg_time\tmin_time\tmax_time\tyear\tavg_rating\tgeek_rating\tnum_votes\timage_url\tage\tmechanic\towned\tcategory\tdesigner\tweight\n",
    "#0\t1\thttps://boardgamegeek.com/boardgame/174430/glo...\t174430\tGloomhaven\t1\t4\t120\t60\t120\t2017\t8.98893\t8.61858\t15376\thttps://cf.geekdo-images.com/original/img/lDN3...\t12\tAction / Movement Programming, Co-operative Pl...\t25928\tAdventure, Exploration, Fantasy, Fighting, Min...\tIsaac Childres\t3.7543\n",
    "#1\t2\thttps://boardgamegeek.com/boardgame/161936/pan...\t161936\tPandemic Legacy: Season 1\t2\t4\t60\t60\t60\t2015\t8.66140\t8.50163\t26063\thttps://cf.geekdo-images.com/original/img/P_Sw...\t13\tAction Point Allowance System, Co-operative Pl...\t41605\tEnvironmental, Medical\tRob Daviau, Matt Leacock\t2.8210"
   ]
  },
  {
   "cell_type": "code",
   "execution_count": null,
   "metadata": {},
   "outputs": [],
   "source": [
    "df.category.value_counts().head(10).index\n",
    "\n",
    "#Index(['Card Game', 'Abstract Strategy', 'Card Game, Fantasy', 'Economic',\n",
    "#       'Wargame, World War II', 'Dice', 'Fantasy', 'City Building', 'none',\n",
    "#       'Card Game, Fantasy, Fighting'],\n",
    "#      dtype='object')"
   ]
  },
  {
   "cell_type": "code",
   "execution_count": null,
   "metadata": {},
   "outputs": [],
   "source": [
    "plt.figure(figsize = (14,7))\n",
    "plt.bar(df.category.value_counts().head().index ,height = df.category.value_counts().head(), color = 'red')\n",
    "plt.title('This is a bar plot!', fontsize =14) #Specifying a title\n",
    "plt.xlabel('This is the x axis!', fontsize = 14)\n",
    "plt.xticks(rotation = 'vertical')\n",
    "plt.ylabel('This it the y axis!', fontsize = 14)\n",
    "plt.show()"
   ]
  },
  {
   "cell_type": "code",
   "execution_count": null,
   "metadata": {},
   "outputs": [],
   "source": [
    "age_filter = df.age >= 13\n",
    "df_2 = df[age_filter]"
   ]
  },
  {
   "cell_type": "code",
   "execution_count": null,
   "metadata": {},
   "outputs": [],
   "source": [
    "plt.figure(figsize = (14,7))\n",
    "plt.bar(df_2.category.value_counts().head(5).index ,height = df_2.category.value_counts().head(5), color = 'red')\n",
    "plt.title('Top 5, for above 13!', fontsize =14) #Specifying a title\n",
    "plt.xticks(rotation = 'vertical')\n",
    "plt.show()"
   ]
  }
 ],
 "metadata": {
  "kernelspec": {
   "display_name": "Python 3",
   "language": "python",
   "name": "python3"
  },
  "language_info": {
   "codemirror_mode": {
    "name": "ipython",
    "version": 3
   },
   "file_extension": ".py",
   "mimetype": "text/x-python",
   "name": "python",
   "nbconvert_exporter": "python",
   "pygments_lexer": "ipython3",
   "version": "3.7.3"
  }
 },
 "nbformat": 4,
 "nbformat_minor": 2
}
