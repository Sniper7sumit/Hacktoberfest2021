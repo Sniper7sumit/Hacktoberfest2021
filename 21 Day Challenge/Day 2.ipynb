{
 "cells": [
  {
   "cell_type": "markdown",
   "metadata": {},
   "source": [
    "Challenge\n",
    "Dot has a few lists you can use as reference: their grocery list, the prices they used to pay in the city, and the prices for the rural grocer. What is the price difference between groceries in the city vs. groceries in the country, as a percentage of country prices?\n",
    "\n",
    "Note: The index position for each item is consistent across all three lists."
   ]
  },
  {
   "cell_type": "code",
   "execution_count": 1,
   "metadata": {},
   "outputs": [],
   "source": [
    "# Grocery List (19 items)\n",
    "grocery_list = ['Bananas', 'Clementines', 'Baguette', 'Oat Milk', 'Olive Oil', 'Coffee Beans',\n",
    "                'Chocolate Bar', 'Brocolli', 'Eggplant', 'Chickpeas', 'Lentils', 'Tomatoes',\n",
    "                'Pasta', 'Rice', 'Yogurt', 'Blueberries', 'Onions', 'Garlic', 'Truffles']\n",
    "\n",
    "# City Price\n",
    "city_price = [6.49, 4.99, 4.39, 4.29, 11.99, 17.99,          \n",
    "              3.49, 3.99, 1.10, 1.99, 2.99, 4.68,            \n",
    "              1.59, 8.99, 3.49, 6.99, 2.99, 1.98, 14.99]\n",
    "\n",
    "# Country Price\n",
    "country_price = [4.49, 4.12, 3.42, 6.99, 7.99, 14.99,              \n",
    "                2.99, 2.49, 0.99, 1.49, 2.49, 1.99,              \n",
    "                1.59, 6.99, 3.89, 4.99, 1.69, 1.87, 11.49]"
   ]
  },
  {
   "cell_type": "code",
   "execution_count": 2,
   "metadata": {},
   "outputs": [
    {
     "name": "stdout",
     "output_type": "stream",
     "text": [
      "0.2582\n"
     ]
    }
   ],
   "source": [
    "t_c = sum(city_price)\n",
    "t_ct = sum(country_price)\n",
    "\n",
    "diff = (t_c - t_ct)/ t_ct\n",
    "\n",
    "print(round(diff,4))"
   ]
  }
 ],
 "metadata": {
  "kernelspec": {
   "display_name": "Python 3",
   "language": "python",
   "name": "python3"
  },
  "language_info": {
   "codemirror_mode": {
    "name": "ipython",
    "version": 3
   },
   "file_extension": ".py",
   "mimetype": "text/x-python",
   "name": "python",
   "nbconvert_exporter": "python",
   "pygments_lexer": "ipython3",
   "version": "3.7.3"
  }
 },
 "nbformat": 4,
 "nbformat_minor": 2
}
