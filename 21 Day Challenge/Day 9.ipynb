{
 "cells": [
  {
   "cell_type": "code",
   "execution_count": null,
   "metadata": {},
   "outputs": [],
   "source": [
    "import pandas as pd\n",
    "df = pd.read_csv('milk_2.csv')\n",
    "\n",
    "print(df.head(3)) #Inputing the value 3 inside the brackets of the df.head() function allows us to\n",
    "                  #override the default value of 5.\n",
    "print('\\n') # \n",
    "\n",
    "print(df.shape)\n",
    "\n",
    "#Month  Monthly milk production: pounds per cow  Number of Cows\n",
    "#0  07-Feb                                    589.0            30.0\n",
    "#1  07-Mar                                    561.0            32.0\n",
    "#2  07-Apr "
   ]
  },
  {
   "cell_type": "code",
   "execution_count": null,
   "metadata": {},
   "outputs": [],
   "source": [
    "df.info()\n",
    "\n",
    "#<class 'pandas.core.frame.DataFrame'>\n",
    "#RangeIndex: 168 entries, 0 to 167\n",
    "#Data columns (total 3 columns):\n",
    "# #   Column                                   Non-Null Count  Dtype  \n",
    "#---  ------                                   --------------  -----  \n",
    "# 0   Month                                    168 non-null    object \n",
    "# 1   Monthly milk production: pounds per cow  150 non-null    float64\n",
    "# 2   Number of Cows                           151 non-null    float64\n",
    "#dtypes: float64(2), object(1)\n",
    "#memory usage: 4.1+ KB"
   ]
  },
  {
   "cell_type": "code",
   "execution_count": null,
   "metadata": {},
   "outputs": [],
   "source": [
    "df.isnull().sum(axis = 0)\n",
    "\n",
    "#Month                                       0\n",
    "#Monthly milk production: pounds per cow    18\n",
    "#Number of Cows                             17\n",
    "#dtype: int64\n",
    "#We can see from the functions we used that there are 18 rows missing in Monthly milk production: pounds per cow, and 17 rows missing from Number of Cows."
   ]
  },
  {
   "cell_type": "markdown",
   "metadata": {},
   "source": [
    "Challenge\n",
    "Fill out the missing values in the monthly milk production column with the median, and fill out the number of cows column using the ffill method.\n",
    "\n",
    "After filling in the missing values with our new data, answer these questions for Dot, so they can figure out the value of having a cow year-round:\n",
    "\n",
    "What is the average for monthly milk production?\n",
    "What is the standard deviation for monthly milk production?\n",
    "What is the average number of cows used?"
   ]
  },
  {
   "cell_type": "code",
   "execution_count": null,
   "metadata": {},
   "outputs": [],
   "source": [
    "median = df['Monthly milk production: pounds per cow'].median()\n",
    "df['Monthly milk production: pounds per cow'] = df['Monthly milk production: pounds per cow'].fillna(value = median)\n",
    "\n",
    "df.isnull().sum(axis = 0)\n",
    "\n",
    "#Month                                       0\n",
    "#Monthly milk production: pounds per cow     0\n",
    "#Number of Cows                             17\n",
    "#dtype: int64"
   ]
  },
  {
   "cell_type": "code",
   "execution_count": null,
   "metadata": {},
   "outputs": [],
   "source": [
    "df['Number of Cows'] = df['Number of Cows'].fillna(method = 'ffill')\n",
    "df.isnull().sum(axis = 0)\n",
    "\n",
    "#Month                                      0\n",
    "#Monthly milk production: pounds per cow    0\n",
    "#Number of Cows                             0\n",
    "#dtype: int64"
   ]
  },
  {
   "cell_type": "code",
   "execution_count": null,
   "metadata": {},
   "outputs": [],
   "source": [
    "#q1 \n",
    "df['Monthly milk production: pounds per cow'].mean()\n",
    "\n",
    "#748.0535714285714"
   ]
  },
  {
   "cell_type": "code",
   "execution_count": null,
   "metadata": {},
   "outputs": [],
   "source": [
    "#q2\n",
    "df['Monthly milk production: pounds per cow'].std()\n",
    "\n",
    "#93.64783112594579"
   ]
  },
  {
   "cell_type": "code",
   "execution_count": null,
   "metadata": {},
   "outputs": [],
   "source": [
    "#q3\n",
    "df['Number of Cows'].mean()\n",
    "\n",
    "#49.898809523809526"
   ]
  }
 ],
 "metadata": {
  "kernelspec": {
   "display_name": "Python 3",
   "language": "python",
   "name": "python3"
  },
  "language_info": {
   "codemirror_mode": {
    "name": "ipython",
    "version": 3
   },
   "file_extension": ".py",
   "mimetype": "text/x-python",
   "name": "python",
   "nbconvert_exporter": "python",
   "pygments_lexer": "ipython3",
   "version": "3.7.3"
  }
 },
 "nbformat": 4,
 "nbformat_minor": 2
}
