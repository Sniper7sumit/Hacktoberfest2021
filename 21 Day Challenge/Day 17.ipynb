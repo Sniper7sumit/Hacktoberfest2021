{
 "cells": [
  {
   "cell_type": "markdown",
   "metadata": {},
   "source": [
    "Challenge\n",
    "Help Dot by answering the following questions using a bar plot:\n",
    "\n",
    "What are the top 5 rated books in the dataset?\n",
    "\n",
    "What are the top 5 books with the highest average rating?\n",
    "\n",
    "Note: Filter out books that have low ratings_count, for question 2 filter out books with a ratings_count less than the mean.\n",
    "\n",
    "Stretch\n",
    "\n",
    "As an optional bonus question, try answering this as well:\n",
    "\n",
    "What are the top 5 authours with the most books in the dataset?"
   ]
  },
  {
   "cell_type": "code",
   "execution_count": null,
   "metadata": {},
   "outputs": [],
   "source": [
    "import pandas as pd\n",
    "import matplotlib.pyplot as plt\n",
    "df = pd.read_csv(\"books.csv\")\n",
    "\n",
    "df.head(2)\n",
    "\n",
    "#bookID\ttitle\tauthors\taverage_rating\tisbn\tisbn13\tlanguage_code\tnum_pages\tratings_count\ttext_reviews_count\tpublication_date\tpublisher\n",
    "#0\t1\tHarry Potter and the Half-Blood Prince (Harry ...\tJ.K. Rowling/Mary GrandPré\t4.57\t0439785960\t9780439785969\teng\t652\t2095690\t27591\t9/16/2006\tScholastic Inc.\n",
    "#1\t2\tHarry Potter and the Order of the Phoenix (Har...\tJ.K. Rowling/Mary GrandPré\t4.49\t0439358078\t9780439358071\teng\t870\t2153167\t29221\t9/1/2004\tScholastic Inc."
   ]
  },
  {
   "cell_type": "code",
   "execution_count": null,
   "metadata": {},
   "outputs": [],
   "source": [
    "#Solution\n",
    "top_rated = df.sort_values('ratings_count', ascending = False).head(5)\n",
    "top_rated\n",
    "\n",
    "#bookID\ttitle\tauthors\taverage_rating\tisbn\tisbn13\tlanguage_code\tnum_pages\tratings_count\ttext_reviews_count\tpublication_date\tpublisher\n",
    "#10336\t41865\tTwilight (Twilight #1)\tStephenie Meyer\t3.59\t0316015849\t9780316015844\teng\t501\t4597666\t94265\t9/6/2006\tLittle Brown and Company\n",
    "#1697\t5907\tThe Hobbit or There and Back Again\tJ.R.R. Tolkien\t4.27\t0618260307\t9780618260300\teng\t366\t2530894\t32871\t8/15/2002\tHoughton Mifflin\n",
    "#1462\t5107\tThe Catcher in the Rye\tJ.D. Salinger\t3.80\t0316769177\t9780316769174\teng\t277\t2457092\t43499\t1/30/2001\tBack Bay Books\n",
    "#307\t960\tAngels & Demons (Robert Langdon #1)\tDan Brown\t3.89\t1416524797\t9781416524793\teng\t736\t2418736\t21303\t4/1/2006\tPocket Books\n",
    "#3\t5\tHarry Potter and the Prisoner of Azkaban (Harr...\tJ.K. Rowling/Mary GrandPré\t4.56\t043965548X\t9780439655484\teng\t435\t2339585\t36325\t5/1/2004\tScholastic Inc."
   ]
  },
  {
   "cell_type": "code",
   "execution_count": null,
   "metadata": {},
   "outputs": [],
   "source": [
    "plt.figure()\n",
    "plt.barh(top_rated['title'], top_rated['ratings_count'])\n",
    "plt.show()"
   ]
  },
  {
   "cell_type": "code",
   "execution_count": null,
   "metadata": {},
   "outputs": [],
   "source": [
    "top_ratings_filter = df.ratings_count > df.ratings_count.mean()\n",
    "top_ratings = df[top_ratings_filter]\n",
    "top_ratings = top_ratings.sort_values('average_rating', ascending = False).head()\n",
    "top_ratings\n",
    "\n",
    "#bookID\ttitle\tauthors\taverage_rating\tisbn\tisbn13\tlanguage_code\tnum_pages\tratings_count\ttext_reviews_count\tpublication_date\tpublisher\n",
    "#6587\t24812\tThe Complete Calvin and Hobbes\tBill Watterson\t4.82\t0740748475\t9780740748479\teng\t1456\t32213\t930\t9/6/2005\tAndrews McMeel Publishing\n",
    "#4\t8\tHarry Potter Boxed Set Books 1-5 (Harry Potte...\tJ.K. Rowling/Mary GrandPré\t4.78\t0439682584\t9780439682589\teng\t2690\t41428\t164\t9/13/2004\tScholastic\n",
    "#6589\t24814\tIt's a Magical World (Calvin and Hobbes #11)\tBill Watterson\t4.76\t0836221362\t9780836221367\teng\t176\t23875\t303\t9/1/1996\tAndrews McMeel Publishing\n",
    "#6\t10\tHarry Potter Collection (Harry Potter #1-6)\tJ.K. Rowling\t4.73\t0439827604\t9780439827607\teng\t3342\t28242\t808\t9/12/2005\tScholastic\n",
    "#6591\t24818\tThe Days Are Just Packed\tBill Watterson\t4.69\t0836217357\t9780836217353\teng\t176\t20308\t244\t9/1/1993\tAndrews McMeel Publishing"
   ]
  },
  {
   "cell_type": "code",
   "execution_count": null,
   "metadata": {},
   "outputs": [],
   "source": [
    "plt.figure()\n",
    "plt.barh(top_ratings['title'], top_ratings['average_rating'])\n",
    "plt.show()"
   ]
  }
 ],
 "metadata": {
  "kernelspec": {
   "display_name": "Python 3",
   "language": "python",
   "name": "python3"
  },
  "language_info": {
   "codemirror_mode": {
    "name": "ipython",
    "version": 3
   },
   "file_extension": ".py",
   "mimetype": "text/x-python",
   "name": "python",
   "nbconvert_exporter": "python",
   "pygments_lexer": "ipython3",
   "version": "3.7.3"
  }
 },
 "nbformat": 4,
 "nbformat_minor": 2
}
