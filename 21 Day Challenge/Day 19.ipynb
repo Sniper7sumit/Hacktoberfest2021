{
 "cells": [
  {
   "cell_type": "markdown",
   "metadata": {},
   "source": [
    "Challenge\n",
    "What type of distribution does the column avg_time have?\n",
    "\n",
    "Do games that have a great avg_rating have longer play times?\n",
    "\n",
    "Note: For question 2, filter out games that have are above the avg_rating of 9.0.\n",
    "\n",
    "Stretch\n",
    "\n",
    "As an optional bonus question, try answering:\n",
    "\n",
    "What type of distribution does weight have?\n",
    "\n",
    "What happens to the median and mean of a skewed distribution?"
   ]
  },
  {
   "cell_type": "code",
   "execution_count": null,
   "metadata": {},
   "outputs": [],
   "source": [
    "import pandas as pd\n",
    "import matplotlib.pyplot as plt\n",
    "import seaborn as sns"
   ]
  },
  {
   "cell_type": "code",
   "execution_count": null,
   "metadata": {},
   "outputs": [],
   "source": [
    "df = pd.read_csv('boardgames.csv')\n",
    "df.head(3)\n",
    "\n",
    "#rank\tbgg_url\tgame_id\tnames\tmin_players\tmax_players\tavg_time\tmin_time\tmax_time\tyear\tavg_rating\tgeek_rating\tnum_votes\timage_url\tage\tmechanic\towned\tcategory\tdesigner\tweight\n",
    "#0\t1\thttps://boardgamegeek.com/boardgame/174430/glo...\t174430\tGloomhaven\t1\t4\t120\t60\t120\t2017\t8.98893\t8.61858\t15376\thttps://cf.geekdo-images.com/original/img/lDN3...\t12\tAction / Movement Programming, Co-operative Pl...\t25928\tAdventure, Exploration, Fantasy, Fighting, Min...\tIsaac Childres\t3.7543\n",
    "#1\t2\thttps://boardgamegeek.com/boardgame/161936/pan...\t161936\tPandemic Legacy: Season 1\t2\t4\t60\t60\t60\t2015\t8.66140\t8.50163\t26063\thttps://cf.geekdo-images.com/original/img/P_Sw...\t13\tAction Point Allowance System, Co-operative Pl...\t41605\tEnvironmental, Medical\tRob Daviau, Matt Leacock\t2.8210\n",
    "#2\t3\thttps://boardgamegeek.com/boardgame/182028/thr...\t182028\tThrough the Ages: A New Story of Civilization\t2\t4\t240\t180\t240\t2015\t8.60673\t8.30183\t12352\thttps://cf.geekdo-images.com/original/img/1d2h...\t14\tAction Point Allowance System, Auction/Bidding...\t15848\tCard Game, Civilization, Economic\tVlaada Chvátil\t4.3678\n"
   ]
  },
  {
   "cell_type": "code",
   "execution_count": null,
   "metadata": {},
   "outputs": [],
   "source": [
    "#Solution\n",
    "avg_time_filter = df.avg_time <= 500\n",
    "df_2 = df[avg_time_filter]"
   ]
  },
  {
   "cell_type": "code",
   "execution_count": null,
   "metadata": {},
   "outputs": [],
   "source": [
    "plt.figure()\n",
    "plt.hist(df_2.avg_time, bins = 30)\n",
    "plt.show()\n",
    "\n",
    "#Answer is Right Skewed"
   ]
  },
  {
   "cell_type": "code",
   "execution_count": null,
   "metadata": {},
   "outputs": [],
   "source": [
    "#q2\n",
    "rating_filter = df['avg_rating'] >= 9\n",
    "df_3 = df[rating_filter]\n",
    "\n",
    "#Answer is Yes"
   ]
  },
  {
   "cell_type": "code",
   "execution_count": null,
   "metadata": {},
   "outputs": [],
   "source": [
    "df_3.avg_time.mean()\n",
    "\n",
    "#97.5"
   ]
  },
  {
   "cell_type": "code",
   "execution_count": null,
   "metadata": {},
   "outputs": [],
   "source": [
    "df_2.avg_time.mean()\n",
    "#82.23635625887604"
   ]
  }
 ],
 "metadata": {
  "kernelspec": {
   "display_name": "Python 3",
   "language": "python",
   "name": "python3"
  },
  "language_info": {
   "codemirror_mode": {
    "name": "ipython",
    "version": 3
   },
   "file_extension": ".py",
   "mimetype": "text/x-python",
   "name": "python",
   "nbconvert_exporter": "python",
   "pygments_lexer": "ipython3",
   "version": "3.7.3"
  }
 },
 "nbformat": 4,
 "nbformat_minor": 2
}
