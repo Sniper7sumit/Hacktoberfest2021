{
 "cells": [
  {
   "cell_type": "markdown",
   "metadata": {},
   "source": [
    "Challenge\n",
    "Play around with the scatterplot and test out different correlations between the numerical categories in the dataset. Then, help Dot by answering these questions:\n",
    "\n",
    "What kind of correlation is there between the weight and avg_rating?\n",
    "\n",
    "What is the correlation coefficient between the two columns?"
   ]
  },
  {
   "cell_type": "code",
   "execution_count": null,
   "metadata": {},
   "outputs": [],
   "source": [
    "import pandas as pd\n",
    "import matplotlib.pyplot as plt"
   ]
  },
  {
   "cell_type": "code",
   "execution_count": null,
   "metadata": {},
   "outputs": [],
   "source": [
    "df = pd.read_csv('boardgames.csv')\n",
    "df.head(3)\n",
    "\n",
    "#\trank\tbgg_url\tgame_id\tnames\tmin_players\tmax_players\tavg_time\tmin_time\tmax_time\tyear\tavg_rating\tgeek_rating\tnum_votes\timage_url\tage\tmechanic\towned\tcategory\tdesigner\tweight\n",
    "#0\t1\thttps://boardgamegeek.com/boardgame/174430/glo...\t174430\tGloomhaven\t1\t4\t120\t60\t120\t2017\t8.98893\t8.61858\t15376\thttps://cf.geekdo-images.com/original/img/lDN3...\t12\tAction / Movement Programming, Co-operative Pl...\t25928\tAdventure, Exploration, Fantasy, Fighting, Min...\tIsaac Childres\t3.7543\n",
    "#1\t2\thttps://boardgamegeek.com/boardgame/161936/pan...\t161936\tPandemic Legacy: Season 1\t2\t4\t60\t60\t60\t2015\t8.66140\t8.50163\t26063\thttps://cf.geekdo-images.com/original/img/P_Sw...\t13\tAction Point Allowance System, Co-operative Pl...\t41605\tEnvironmental, Medical\tRob Daviau, Matt Leacock\t2.8210\n",
    "#2\t3\thttps://boardgamegeek.com/boardgame/182028/thr...\t182028\tThrough the Ages: A New Story of Civilization\t2\t4\t240\t180\t240\t2015\t8.60673\t8.30183\t12352\thttps://cf.geekdo-images.com/original/img/1d2h...\t14\tAction Point Allowance System, Auction/Bidding...\t15848\tCard Game, Civilization, Economic\tVlaada Chvátil\t4.3678"
   ]
  },
  {
   "cell_type": "code",
   "execution_count": null,
   "metadata": {},
   "outputs": [],
   "source": [
    "#Solution\n",
    "plt.figure()\n",
    "plt.scatter(df.weight, df.avg_rating)\n",
    "plt.figure()"
   ]
  },
  {
   "cell_type": "code",
   "execution_count": null,
   "metadata": {},
   "outputs": [],
   "source": [
    "df.corr()\n",
    "\n",
    "#rank\tgame_id\tmin_players\tmax_players\tavg_time\tmin_time\tmax_time\tyear\tavg_rating\tgeek_rating\tnum_votes\tage\towned\tweight\n",
    "#rank\t1.000000\t-0.029686\t0.021409\t0.018707\t0.011602\t0.021634\t0.010972\t-0.007448\t-0.385495\t-0.886759\t-0.462693\t-0.143138\t-0.465226\t-0.164812\n",
    "#game_id\t-0.029686\t1.000000\t-0.144871\t0.016250\t-0.064498\t-0.104995\t-0.065314\t0.103455\t0.301063\t0.055626\t-0.077227\t0.096223\t-0.039391\t-0.092998\n",
    "#min_players\t0.021409\t-0.144871\t1.000000\t0.158905\t-0.049665\t-0.022629\t-0.049235\t0.007135\t-0.216454\t-0.040871\t0.020947\t-0.004194\t0.007918\t-0.197029\n",
    "#max_players\t0.018707\t0.016250\t0.158905\t1.000000\t-0.022040\t-0.020897\t-0.022011\t0.006533\t-0.067922\t-0.022980\t0.006934\t-0.003500\t0.007676\t-0.136169\n",
    "#avg_time\t0.011602\t-0.064498\t-0.049665\t-0.022040\t1.000000\t0.659931\t0.999926\t0.003830\t0.161758\t-0.011703\t-0.025939\t0.025333\t-0.024539\t0.233859\n",
    "#min_time\t0.021634\t-0.104995\t-0.022629\t-0.020897\t0.659931\t1.000000\t0.659825\t0.003850\t0.116633\t-0.020554\t-0.029580\t0.027504\t-0.028970\t0.234898\n",
    "#max_time\t0.010972\t-0.065314\t-0.049235\t-0.022011\t0.999926\t0.659825\t1.000000\t0.003735\t0.161214\t-0.011179\t-0.025618\t0.025193\t-0.024241\t0.233712\n",
    "#year\t-0.007448\t0.103455\t0.007135\t0.006533\t0.003830\t0.003850\t0.003735\t1.000000\t0.020707\t0.008029\t-0.016072\t0.098132\t-0.013931\t0.003438\n",
    "#avg_rating\t-0.385495\t0.301063\t-0.216454\t-0.067922\t0.161758\t0.116633\t0.161214\t0.020707\t1.000000\t0.456277\t0.165803\t0.156797\t0.165117\t0.547244\n",
    "#geek_rating\t-0.886759\t0.055626\t-0.040871\t-0.022980\t-0.011703\t-0.020554\t-0.011179\t0.008029\t0.456277\t1.000000\t0.637970\t0.163270\t0.629538\t0.203591\n",
    "#num_votes\t-0.462693\t-0.077227\t0.020947\t0.006934\t-0.025939\t-0.029580\t-0.025618\t-0.016072\t0.165803\t0.637970\t1.000000\t0.045512\t0.984790\t0.014468\n",
    "#age\t-0.143138\t0.096223\t-0.004194\t-0.003500\t0.025333\t0.027504\t0.025193\t0.098132\t0.156797\t0.163270\t0.045512\t1.000000\t0.052791\t0.303283\n",
    "#owned\t-0.465226\t-0.039391\t0.007918\t0.007676\t-0.024539\t-0.028970\t-0.024241\t-0.013931\t0.165117\t0.629538\t0.984790\t0.052791\t1.000000\t0.006033\n",
    "#weight\t-0.164812\t-0.092998\t-0.197029\t-0.136169\t0.233859\t0.234898\t0.233712\t0.003438\t0.547244\t0.203591\t0.014468\t0.303283\t0.006033\t1.000000\n"
   ]
  },
  {
   "cell_type": "code",
   "execution_count": null,
   "metadata": {},
   "outputs": [],
   "source": [
    "# 0.5472"
   ]
  }
 ],
 "metadata": {
  "kernelspec": {
   "display_name": "Python 3",
   "language": "python",
   "name": "python3"
  },
  "language_info": {
   "codemirror_mode": {
    "name": "ipython",
    "version": 3
   },
   "file_extension": ".py",
   "mimetype": "text/x-python",
   "name": "python",
   "nbconvert_exporter": "python",
   "pygments_lexer": "ipython3",
   "version": "3.7.3"
  }
 },
 "nbformat": 4,
 "nbformat_minor": 2
}
