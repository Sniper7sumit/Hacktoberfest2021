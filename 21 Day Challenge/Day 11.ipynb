{
 "cells": [
  {
   "cell_type": "markdown",
   "metadata": {},
   "source": [
    "Challenge\n",
    "Can Dot spin a profit as an avocado farmer? Examine the data to find the average cost of avocados in Albany in 2017."
   ]
  },
  {
   "cell_type": "code",
   "execution_count": null,
   "metadata": {},
   "outputs": [],
   "source": [
    "import pandas as pd\n",
    "\n",
    "df = pd.read_csv('avocado.csv', index_col = 0)\n",
    "df.head()\n",
    "\n",
    "#Date\tAveragePrice\tTotal Volume\tTotal Bags\tSmall Bags\tLarge Bags\tXLarge Bags\ttype\tyear\tregion\n",
    "#0\t2015-12-27\t1.33\t64236.62\t8696.87\t8603.62\t93.25\t0.0\tconventional\t2015\tAlbany\n",
    "#1\t2015-12-20\t1.35\t54876.98\t9505.56\t9408.07\t97.49\t0.0\tconventional\t2015\tAlbany\n",
    "#2\t2015-12-13\t0.93\t118220.22\t8145.35\t8042.21\t103.14\t0.0\tconventional\t2015\tAlbany\n",
    "#3\t2015-12-06\t1.08\t78992.15\t5811.16\t5677.40\t133.76\t0.0\tconventional\t2015\tAlbany\n",
    "#4\t2015-11-29\t1.28\t51039.60\t6183.95\t5986.26\t197.69\t0.0\tconventional\t2015\tAlbany"
   ]
  },
  {
   "cell_type": "code",
   "execution_count": null,
   "metadata": {},
   "outputs": [],
   "source": [
    "#Solution\n",
    "avo = df.groupby(['region','year']).mean()\n",
    "avo.head(20)\n",
    "\n",
    "\n",
    "#AveragePrice\tTotal Volume\tTotal Bags\tSmall Bags\tLarge Bags\tXLarge Bags\n",
    "#region\tyear\t\t\t\t\t\t\n",
    "#Albany\t2015\t1.538750\t38749.004135\t6919.765385\t6744.927404\t173.515865\t1.322115\n",
    "#2016\t1.533942\t50618.611442\t8060.576058\t7629.006154\t222.983942\t208.585962\n",
    "#2017\t1.637830\t49354.545094\t7882.128302\t4943.011226\t2763.058868\t176.067642\n",
    "#2018\t1.435833\t64249.423750\t11949.729167\t9504.018750\t2323.395833\t122.314583\n",
    "#Atlanta\t2015\t1.380577\t223381.712692\t28817.219904\t18091.291923\t10717.445673\t8.482308\n",
    "#2016\t1.214135\t272373.829808\t95930.159423\t52369.293077\t43229.854712\t331.011635\n",
    "#2017\t1.428774\t271840.754528\t110067.614811\t70132.168962\t38002.920189\t1932.516226\n",
    "#2018\t1.288750\t342975.935417\t163317.456667\t111701.045417\t50035.261667\t1581.149583\n",
    "#BaltimoreWashington\t2015\t1.368846\t390822.880192\t91233.794808\t88677.811635\t2522.575000\t33.408173\n",
    "#2016\t1.587596\t393209.637692\t99574.801250\t96155.722885\t2591.820673\t827.257692\n",
    "#2017\t1.679434\t386939.947736\t109661.628868\t104926.584717\t3672.241132\t1062.793585\n",
    "#2018\t1.378333\t506620.958333\t159913.309167\t157196.139583\t2516.336667\t200.832917\n",
    "#Boise\t2015\t1.373750\t36388.051346\t4981.101058\t4641.513846\t323.131346\t16.455865\n",
    "#2016\t1.141923\t44745.283942\t22080.516346\t20934.522404\t1099.331250\t46.662692\n",
    "#2017\t1.492642\t44910.955755\t19759.427075\t16523.018491\t3212.219057\t24.170660\n",
    "#2018\t1.492500\t50614.982083\t20437.698750\t11107.702500\t9274.874583\t55.121667\n",
    "#Boston\t2015\t1.473558\t263990.304231\t55372.257788\t54624.526154\t746.329423\t1.402212\n",
    "#2016\t1.426154\t293954.952596\t66656.696154\t65671.839423\t635.623365\t349.233365\n",
    "#2017\t1.679528\t288779.926038\t66325.052830\t56744.661698\t9218.595472\t361.776792\n",
    "#2018\t1.576667\t359875.248333\t73917.082917\t57694.640833\t15803.044167\t419.397917"
   ]
  },
  {
   "cell_type": "code",
   "execution_count": null,
   "metadata": {},
   "outputs": [],
   "source": [
    "avo.loc[('Albany', 2017)]\n",
    "\n",
    "#AveragePrice        1.637830\n",
    "#Total Volume    49354.545094\n",
    "#Total Bags       7882.128302\n",
    "#Small Bags       4943.011226\n",
    "#Large Bags       2763.058868\n",
    "#XLarge Bags       176.067642\n",
    "#Name: (Albany, 2017), dtype: float64"
   ]
  }
 ],
 "metadata": {
  "kernelspec": {
   "display_name": "Python 3",
   "language": "python",
   "name": "python3"
  },
  "language_info": {
   "codemirror_mode": {
    "name": "ipython",
    "version": 3
   },
   "file_extension": ".py",
   "mimetype": "text/x-python",
   "name": "python",
   "nbconvert_exporter": "python",
   "pygments_lexer": "ipython3",
   "version": "3.7.3"
  }
 },
 "nbformat": 4,
 "nbformat_minor": 2
}
