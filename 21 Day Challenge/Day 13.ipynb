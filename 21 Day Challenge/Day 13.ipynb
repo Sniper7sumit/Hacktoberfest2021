{
 "cells": [
  {
   "cell_type": "markdown",
   "metadata": {},
   "source": [
    "Challenge\n",
    "Use the pandas sort function and the pandas filter function from the previous challenge to answer these questions:\n",
    "\n",
    "Which wines had a quality of 8 or higher and a residual sugar level above 5?\n",
    "How many wines in total had a quality of 8 and 7 and a citric acid level below 0.4?\n",
    "Note: Use the index positions of the wines as the wine names."
   ]
  },
  {
   "cell_type": "code",
   "execution_count": null,
   "metadata": {},
   "outputs": [],
   "source": [
    "import pandas as pd\n",
    "wine_df = pd.read_csv('winequality-red.csv')\n",
    "wine_df\n",
    "\n",
    "#\tfixed acidity\tvolatile acidity\tcitric acid\tresidual sugar\tchlorides\tfree sulfur dioxide\ttotal sulfur dioxide\tdensity\tpH\tsulphates\talcohol\tquality\n",
    "#0\t7.4\t0.700\t0.00\t1.9\t0.076\t11.0\t34.0\t0.99780\t3.51\t0.56\t9.4\t5\n",
    "#1\t7.8\t0.880\t0.00\t2.6\t0.098\t25.0\t67.0\t0.99680\t3.20\t0.68\t9.8\t5\n",
    "#2\t7.8\t0.760\t0.04\t2.3\t0.092\t15.0\t54.0\t0.99700\t3.26\t0.65\t9.8\t5\n",
    "#3\t11.2\t0.280\t0.56\t1.9\t0.075\t17.0\t60.0\t0.99800\t3.16\t0.58\t9.8\t6\n",
    "#4\t7.4\t0.700\t0.00\t1.9\t0.076\t11.0\t34.0\t0.99780\t3.51\t0.56\t9.4\t5\n",
    "#...\t...\t...\t...\t...\t...\t...\t...\t...\t...\t...\t...\t...\n",
    "#1594\t6.2\t0.600\t0.08\t2.0\t0.090\t32.0\t44.0\t0.99490\t3.45\t0.58\t10.5\t5\n",
    "#1595\t5.9\t0.550\t0.10\t2.2\t0.062\t39.0\t51.0\t0.99512\t3.52\t0.76\t11.2\t6\n",
    "#1596\t6.3\t0.510\t0.13\t2.3\t0.076\t29.0\t40.0\t0.99574\t3.42\t0.75\t11.0\t6\n",
    "#1597\t5.9\t0.645\t0.12\t2.0\t0.075\t32.0\t44.0\t0.99547\t3.57\t0.71\t10.2\t5\n",
    "#1598\t6.0\t0.310\t0.47\t3.6\t0.067\t18.0\t42.0\t0.99549\t3.39\t0.66\t11.0\t6\n",
    "#1599 rows × 12 columns"
   ]
  },
  {
   "cell_type": "code",
   "execution_count": null,
   "metadata": {},
   "outputs": [],
   "source": [
    "#Solution \n",
    "#Q1\n",
    "filter_wine = wine_df['residual sugar'] > 5.00\n",
    "\n",
    "filtered_df = wine_df[filter_wine]\n",
    "\n",
    "filtered_df.sort_values(by=['quality','residual sugar'], ascending = False)\n",
    "\n",
    "#\tfixed acidity\tvolatile acidity\tcitric acid\tresidual sugar\tchlorides\tfree sulfur dioxide\ttotal sulfur dioxide\tdensity\tpH\tsulphates\talcohol\tquality\n",
    "#278\t10.3\t0.320\t0.45\t6.4\t0.073\t5.0\t13.0\t0.99760\t3.23\t0.82\t12.6\t8\n",
    "#455\t11.3\t0.620\t0.67\t5.2\t0.086\t6.0\t19.0\t0.99880\t3.22\t0.69\t13.4\t8\n",
    "#1043\t9.5\t0.390\t0.41\t8.9\t0.069\t18.0\t39.0\t0.99859\t3.29\t0.81\t10.9\t7\n",
    "#1079\t7.9\t0.300\t0.68\t8.3\t0.050\t37.5\t278.0\t0.99316\t3.01\t0.51\t12.3\t7\n",
    "#1081\t7.9\t0.300\t0.68\t8.3\t0.050\t37.5\t289.0\t0.99316\t3.01\t0.51\t12.3\t7\n",
    "#...\t...\t...\t...\t...\t...\t...\t...\t...\t...\t...\t...\t...\n",
    "#57\t7.5\t0.630\t0.12\t5.1\t0.111\t50.0\t110.0\t0.99830\t3.26\t0.77\t9.4\t5\n",
    "#1235\t6.0\t0.330\t0.32\t12.9\t0.054\t6.0\t113.0\t0.99572\t3.30\t0.56\t11.5\t4\n",
    "#1276\t8.5\t0.400\t0.40\t6.3\t0.050\t3.0\t10.0\t0.99566\t3.28\t0.56\t12.0\t4\n",
    "#1176\t6.5\t0.880\t0.03\t5.6\t0.079\t23.0\t47.0\t0.99572\t3.58\t0.50\t11.2\t4\n",
    "#1478\t7.1\t0.875\t0.05\t5.7\t0.082\t3.0\t14.0\t0.99808\t3.40\t0.52\t10.2\t3\n",
    "#84 rows × 12 columns"
   ]
  },
  {
   "cell_type": "code",
   "execution_count": null,
   "metadata": {},
   "outputs": [],
   "source": [
    "#Q2\n",
    "filter_wine_2 = wine_df['citric acid'] < 0.4\n",
    "\n",
    "filtered_df_2 = wine_df[filter_wine_2]\n",
    "filtered_df_2['quality'].value_counts()\n",
    "\n",
    "#5    534\n",
    "#6    436\n",
    "#7     96\n",
    "#4     45\n",
    "#8      9\n",
    "#3      7\n",
    "#Name: quality, dtype: int64"
   ]
  },
  {
   "cell_type": "code",
   "execution_count": null,
   "metadata": {},
   "outputs": [],
   "source": [
    "print(96+9)\n",
    "\n",
    "#105"
   ]
  }
 ],
 "metadata": {
  "kernelspec": {
   "display_name": "Python 3",
   "language": "python",
   "name": "python3"
  },
  "language_info": {
   "codemirror_mode": {
    "name": "ipython",
    "version": 3
   },
   "file_extension": ".py",
   "mimetype": "text/x-python",
   "name": "python",
   "nbconvert_exporter": "python",
   "pygments_lexer": "ipython3",
   "version": "3.7.3"
  }
 },
 "nbformat": 4,
 "nbformat_minor": 2
}
