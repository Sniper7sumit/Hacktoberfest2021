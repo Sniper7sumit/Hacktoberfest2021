{
 "cells": [
  {
   "cell_type": "markdown",
   "metadata": {},
   "source": [
    "Pandas is one of the most widely used Python plugins. Pandas can be used when working with large datasets, or when performing data cleaning, manipulation, and anlaysis."
   ]
  },
  {
   "cell_type": "markdown",
   "metadata": {},
   "source": [
    "Before we can use the pandas plugin, we have to import it."
   ]
  },
  {
   "cell_type": "code",
   "execution_count": null,
   "metadata": {},
   "outputs": [],
   "source": [
    "#import the pandas plugin\n",
    "import pandas as pd # pd is the alias we have given to pandas."
   ]
  },
  {
   "cell_type": "code",
   "execution_count": null,
   "metadata": {},
   "outputs": [],
   "source": [
    "#To Read a Dataset\n",
    "#Milk.csv is stored into a Pandas DataFrame variable called df.\n",
    "df = pd.read_csv('milk.csv')\n",
    "\n",
    "#df.head() function displays the first 5 rows of the dataset\n",
    "df.head()"
   ]
  },
  {
   "cell_type": "markdown",
   "metadata": {},
   "source": [
    "DataFrame Functions\n",
    "\n",
    "df.describe() provides descriptive statistics of all numerical columns\n",
    "df.unique() Number of unique items in a column\n",
    "df.shape() gets the number of rows and columsn in the dataframe\n",
    "DataFrame Column Functions\n",
    "\n",
    "info() provides an overview of all the columns, number of non-nulls, and data types in a DataFrame\n",
    "max() gets the max value from a column\n",
    "min() gets the min value from a column\n",
    "mean() get the mean value from a column\n",
    "idxmax() gets the integer index position of the max value from a column\n",
    "idxmin() gets the integer index position of the min value from a column\n",
    "loc() gets rows (or columns) with particular labels from the index\n",
    "iloc() gets rows (or columns) with particular positions in the index (only takes integers)\n",
    "#example using info()\n",
    "df.info()\n",
    "\n",
    "#example calling the max number from a column\n",
    "df['column_name'].max()"
   ]
  },
  {
   "cell_type": "markdown",
   "metadata": {},
   "source": [
    "Challenge\n",
    "After playing around with the functions above, you can start helping Dot figure out when the best time to rent a cow might be. With this dataset, you can take a look at how cows produce milk over time.\n",
    "\n",
    "Answer the following questions for Dot:\n",
    "\n",
    "At what year and month did company x produce the most milk?\n",
    "At what year and month did company x produce the least milk?\n",
    "Stretch\n",
    "\n",
    "Stretch questions are not required to be completed for the challenge, but you can test your skills with more advanced challenges.\n",
    "\n",
    "Which year produced the most milk?"
   ]
  },
  {
   "cell_type": "code",
   "execution_count": null,
   "metadata": {},
   "outputs": [],
   "source": [
    "#Solutions Q1\n",
    "max_milk = df['Monthly milk production: pounds per cow'].max()\n",
    "max_milk_index = df['Monthly milk production: pounds per cow'].idxmax()\n",
    "\n",
    "print(f'The maximum average milk production is {max_milk} during the year-month of {max_milk_index}.')\n",
    "\n",
    "#The maximum average milk production is 969 during the year-month of 148."
   ]
  },
  {
   "cell_type": "code",
   "execution_count": null,
   "metadata": {},
   "outputs": [],
   "source": [
    "df.loc[148]\n",
    "\n",
    "#Month                                      19-Jun\n",
    "#Monthly milk production: pounds per cow       969\n",
    "#Name: 148, dtype: object"
   ]
  },
  {
   "cell_type": "code",
   "execution_count": null,
   "metadata": {},
   "outputs": [],
   "source": [
    "#Solutions Q2\n",
    "min_milk = df['Monthly milk production: pounds per cow'].min()\n",
    "min_milk_index = df['Monthly milk production: pounds per cow'].idxmin()\n",
    "\n",
    "print(f'The minimum average milk production is {min_milk} during the year-month of {min_milk_index}.')\n",
    "\n",
    "#The minimum average milk production is 553 during the year-month of 10."
   ]
  },
  {
   "cell_type": "code",
   "execution_count": null,
   "metadata": {},
   "outputs": [],
   "source": [
    "df.iloc[10]\n",
    "\n",
    "#Month                                      07-Dec\n",
    "#Monthly milk production: pounds per cow       553\n",
    "#Name: 10, dtype: object"
   ]
  }
 ],
 "metadata": {
  "kernelspec": {
   "display_name": "Python 3",
   "language": "python",
   "name": "python3"
  },
  "language_info": {
   "codemirror_mode": {
    "name": "ipython",
    "version": 3
   },
   "file_extension": ".py",
   "mimetype": "text/x-python",
   "name": "python",
   "nbconvert_exporter": "python",
   "pygments_lexer": "ipython3",
   "version": "3.7.3"
  }
 },
 "nbformat": 4,
 "nbformat_minor": 2
}
