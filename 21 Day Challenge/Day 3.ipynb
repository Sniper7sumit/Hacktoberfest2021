{
 "cells": [
  {
   "cell_type": "markdown",
   "metadata": {},
   "source": [
    "Challenge\n",
    "Dot has some specific rules for what they want to change in the shopping list:\n",
    "\n",
    "They hate oak wood, and prefer maple.\n",
    "They want to paint all the rooms blue except the kitchen, which they want to paint white.\n",
    "old_blueprint = {\n",
    "    \"Kitchen\": ['Dirty', 'Oak', \"Damaged\", \"Green\"],\n",
    "    \"Dining Room\": ['Dirty', 'Pine', 'Good Condition', 'Grey'],\n",
    "    \"Living Room\": ['Dirty', 'Oak', 'Damaged', 'Red'],\n",
    "    \"Bedroom\" : [\"Clean\", 'Mahogany', 'Good Condition', 'Green'],\n",
    "    \"Bathroom\": [\"Dirty\", 'White Tile', 'Good Condition','White'],\n",
    "    \"Shed\"    : ['Dirty', \"Cherry\", \"Damaged\", \"Un-painted\"]\n",
    "}\n",
    "\n",
    "shopping_list = ['20 x Oak Plank', '20 x Oak Plank', '20 x Cherry Plank', 'White Paint', 'White Paint', 'White Paint']\n",
    "Note: The blueprint above is in a dictionary format and we won't be needing to work with dictionaries in the challenge, use the blueprint as reference only.\n",
    "\n",
    "Use python's pop(), insert(), and append() list functions to change the shopping_list above so that it reflects the right materials needed.\n",
    "\n",
    "The list should be ordered by wood types first, then paint types.\n",
    "\n",
    "example_shopping_list = ['wood type in room A', 'wood type in room b','paint type in room a','paint type in room b']\n",
    "Create a paint_list list from the new_shopping_list list using the built in python list indexing ability."
   ]
  },
  {
   "cell_type": "code",
   "execution_count": 1,
   "metadata": {},
   "outputs": [],
   "source": [
    "shopping_list = ['20 x Oak plank', '20 x Oak Plank', '20 x Cherry Plank', 'White Paint', 'White Paint', 'White Paint']"
   ]
  },
  {
   "cell_type": "code",
   "execution_count": 2,
   "metadata": {},
   "outputs": [
    {
     "name": "stdout",
     "output_type": "stream",
     "text": [
      "['20 x Oak plank', '20 x Oak Plank', '20 x Cherry Plank', 'White Paint', 'White Paint', 'White Paint']\n"
     ]
    }
   ],
   "source": [
    "#Solution\n",
    "new_shopping_list = shopping_list\n",
    "print(new_shopping_list)"
   ]
  },
  {
   "cell_type": "code",
   "execution_count": 3,
   "metadata": {},
   "outputs": [
    {
     "name": "stdout",
     "output_type": "stream",
     "text": [
      "['20 x Oak plank', '20 x Oak Plank', '20 x Cherry Plank', 'White Paint', 'White Paint']\n"
     ]
    }
   ],
   "source": [
    "new_shopping_list.pop(-1)\n",
    "print(new_shopping_list)"
   ]
  },
  {
   "cell_type": "code",
   "execution_count": 4,
   "metadata": {},
   "outputs": [
    {
     "name": "stdout",
     "output_type": "stream",
     "text": [
      "['20 x Oak plank', '20 x Oak Plank', '20 x Cherry Plank', 'White Paint']\n"
     ]
    }
   ],
   "source": [
    "new_shopping_list.pop(-1)\n",
    "print(new_shopping_list)"
   ]
  },
  {
   "cell_type": "code",
   "execution_count": 5,
   "metadata": {},
   "outputs": [
    {
     "name": "stdout",
     "output_type": "stream",
     "text": [
      "['20 x Oak plank', '20 x Oak Plank', '20 x Cherry Plank', 'White Paint', 'Blue Paint']\n"
     ]
    }
   ],
   "source": [
    "new_shopping_list.append('Blue Paint')\n",
    "print(new_shopping_list)"
   ]
  },
  {
   "cell_type": "code",
   "execution_count": 6,
   "metadata": {},
   "outputs": [
    {
     "name": "stdout",
     "output_type": "stream",
     "text": [
      "['20 x Oak plank', '20 x Oak Plank', '20 x Cherry Plank', 'White Paint', 'Blue Paint', 'Blue Paint']\n"
     ]
    }
   ],
   "source": [
    "new_shopping_list.append('Blue Paint')\n",
    "print(new_shopping_list)"
   ]
  },
  {
   "cell_type": "code",
   "execution_count": 7,
   "metadata": {},
   "outputs": [
    {
     "name": "stdout",
     "output_type": "stream",
     "text": [
      "['20 x Oak plank', '20 x Oak Plank', '20 x Cherry Plank', 'White Paint', 'Blue Paint', 'Blue Paint', 'Blue Paint']\n"
     ]
    }
   ],
   "source": [
    "new_shopping_list.append('Blue Paint')\n",
    "print(new_shopping_list)"
   ]
  },
  {
   "cell_type": "code",
   "execution_count": 8,
   "metadata": {},
   "outputs": [
    {
     "name": "stdout",
     "output_type": "stream",
     "text": [
      "['20 x Oak plank', '20 x Oak Plank', '20 x Cherry Plank', 'White Paint', 'Blue Paint', 'Blue Paint', 'Blue Paint', 'Blue Paint']\n"
     ]
    }
   ],
   "source": [
    "new_shopping_list.append('Blue Paint')\n",
    "print(new_shopping_list)"
   ]
  },
  {
   "cell_type": "code",
   "execution_count": 9,
   "metadata": {},
   "outputs": [
    {
     "name": "stdout",
     "output_type": "stream",
     "text": [
      "['20 x Oak plank', '20 x Oak Plank', '20 x Cherry Plank', 'White Paint', 'Blue Paint', 'Blue Paint', 'Blue Paint', 'Blue Paint', 'Blue Paint']\n"
     ]
    }
   ],
   "source": [
    "new_shopping_list.append('Blue Paint')\n",
    "print(new_shopping_list)"
   ]
  },
  {
   "cell_type": "code",
   "execution_count": 10,
   "metadata": {},
   "outputs": [
    {
     "name": "stdout",
     "output_type": "stream",
     "text": [
      "['20 x Maple Plank', '20 x Oak plank', '20 x Oak Plank', '20 x Cherry Plank', 'White Paint', 'Blue Paint', 'Blue Paint', 'Blue Paint', 'Blue Paint', 'Blue Paint']\n"
     ]
    }
   ],
   "source": [
    "new_shopping_list.insert(0, \"20 x Maple Plank\")\n",
    "print(new_shopping_list)"
   ]
  },
  {
   "cell_type": "code",
   "execution_count": 11,
   "metadata": {},
   "outputs": [
    {
     "name": "stdout",
     "output_type": "stream",
     "text": [
      "['20 x Maple Plank', '20 x Maple Plank', '20 x Oak Plank', '20 x Cherry Plank', 'White Paint', 'Blue Paint', 'Blue Paint', 'Blue Paint', 'Blue Paint', 'Blue Paint']\n"
     ]
    }
   ],
   "source": [
    "new_shopping_list.pop(1)\n",
    "new_shopping_list.insert(1, \"20 x Maple Plank\")\n",
    "print(new_shopping_list)"
   ]
  },
  {
   "cell_type": "code",
   "execution_count": 12,
   "metadata": {},
   "outputs": [],
   "source": [
    "new_shopping_list = ['20 x Maple Plank', '20 x Maple Plank', '20 x Cherry Plank', 'White Paint', \n",
    "                   'Blue Paint','Blue Paint','Blue Paint','Blue Paint', 'Blue Paint']"
   ]
  },
  {
   "cell_type": "code",
   "execution_count": 13,
   "metadata": {},
   "outputs": [
    {
     "name": "stdout",
     "output_type": "stream",
     "text": [
      "['White Paint', 'Blue Paint', 'Blue Paint', 'Blue Paint', 'Blue Paint', 'Blue Paint']\n"
     ]
    }
   ],
   "source": [
    "# Solution\n",
    "paint_list = new_shopping_list[3:]\n",
    "print(paint_list)"
   ]
  }
 ],
 "metadata": {
  "kernelspec": {
   "display_name": "Python 3",
   "language": "python",
   "name": "python3"
  },
  "language_info": {
   "codemirror_mode": {
    "name": "ipython",
    "version": 3
   },
   "file_extension": ".py",
   "mimetype": "text/x-python",
   "name": "python",
   "nbconvert_exporter": "python",
   "pygments_lexer": "ipython3",
   "version": "3.7.3"
  }
 },
 "nbformat": 4,
 "nbformat_minor": 2
}
