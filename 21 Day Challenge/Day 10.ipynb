{
 "cells": [
  {
   "cell_type": "code",
   "execution_count": null,
   "metadata": {},
   "outputs": [],
   "source": [
    "Challenge\n",
    "\n",
    "Help Dot figure out how profitable selling fresh milk can be, by looking at the dataset for the cow farm. Fill in the values for the following columns based on the available data:\n",
    "\n",
    "Total Milk Production\n",
    "Total Revenue\n",
    "How much revenue did the cow farm make in the year 2020?"
   ]
  },
  {
   "cell_type": "code",
   "execution_count": null,
   "metadata": {},
   "outputs": [],
   "source": [
    "import pandas as pd\n",
    "\n",
    "df = pd.read_csv('milk_32.csv')\n",
    "df = df.drop(columns = ['Unnamed: 0'])\n",
    "                                \n",
    "df.head()\n",
    "\n",
    "#Month\tMonthly milk production: pounds per cow\tNumber of Cows\tTotal Milk Production\tPrice_Per_Pound\tTotal Revenue\n",
    "#0\t07-Feb\t589.0\t30\tNaN\t0.22\tNaN\n",
    "#1\t07-Mar\t561.0\t32\tNaN\t0.22\tNaN\n",
    "#2\t07-Apr\t640.0\t35\tNaN\t0.22\tNaN\n",
    "#3\t07-May\t656.0\t35\tNaN\t0.22\tNaN\n",
    "#4\t07-Jun\t727.0\t35\tNaN\t0.22\tNaN"
   ]
  },
  {
   "cell_type": "code",
   "execution_count": null,
   "metadata": {},
   "outputs": [],
   "source": [
    "#Solution \n",
    "df['Total Milk Production'] = df['Monthly milk production: pounds per cow'] * df['Number of Cows']\n",
    "df.head()\n",
    "\n",
    "#Month\tMonthly milk production: pounds per cow\tNumber of Cows\tTotal Milk Production\tPrice_Per_Pound\tTotal Revenue\n",
    "#0\t07-Feb\t589.0\t30\t17670.0\t0.22\tNaN\n",
    "#1\t07-Mar\t561.0\t32\t17952.0\t0.22\tNaN\n",
    "#2\t07-Apr\t640.0\t35\t22400.0\t0.22\tNaN\n",
    "#3\t07-May\t656.0\t35\t22960.0\t0.22\tNaN\n",
    "#4\t07-Jun\t727.0\t35\t25445.0\t0.22\tNaN"
   ]
  },
  {
   "cell_type": "code",
   "execution_count": null,
   "metadata": {},
   "outputs": [],
   "source": [
    "df['Total Revenue'] = df['Total Milk Production'] * df['Price_Per_Pound']\n",
    "df.tail(15)\n",
    "\n",
    "#Month\tMonthly milk production: pounds per cow\tNumber of Cows\tTotal Milk Production\tPrice_Per_Pound\tTotal Revenue\n",
    "#153\t19-Nov\t812.0\t62\t50344.0\t0.32\t16110.08\n",
    "#154\t19-Dec\t773.0\t62\t47926.0\t0.32\t15336.32\n",
    "#155\t20-Jan\t813.0\t62\t50406.0\t0.32\t16129.92\n",
    "#156\t20-Feb\t834.0\t62\t51708.0\t0.32\t16546.56\n",
    "#157\t20-Mar\t782.0\t62\t48484.0\t0.32\t15514.88\n",
    "#158\t20-Apr\t892.0\t62\t55304.0\t0.32\t17697.28\n",
    "#159\t20-May\t903.0\t62\t55986.0\t0.32\t17915.52\n",
    "#160\t20-Jun\t966.0\t62\t59892.0\t0.32\t19165.44\n",
    "#161\t20-Jul\t937.0\t62\t58094.0\t0.32\t18590.08\n",
    "#162\t20-Aug\t896.0\t62\t55552.0\t0.32\t17776.64\n",
    "#163\t20-Sep\t858.0\t62\t53196.0\t0.32\t17022.72\n",
    "#164\t20-Oct\t755.5\t62\t46841.0\t0.32\t14989.12\n",
    "#165\t20-Nov\t755.5\t62\t46841.0\t0.32\t14989.12\n",
    "#166\t20-Dec\t797.0\t62\t49414.0\t0.32\t15812.48\n",
    "#167\t21-Jan\t843.0\t62\t52266.0\t0.32\t16725.12"
   ]
  },
  {
   "cell_type": "code",
   "execution_count": null,
   "metadata": {},
   "outputs": [],
   "source": [
    "revenue_2020 = df['Total Revenue'][155:167]\n",
    "print(sum(revenue_2020))\n",
    "\n",
    "#202149.76"
   ]
  },
  {
   "cell_type": "code",
   "execution_count": null,
   "metadata": {},
   "outputs": [],
   "source": [
    "df_revenue_2019 = df[155:167]\n",
    "df_revenue_2019\n",
    "#df_revenue_2019['Total Revenue'].sum()\n",
    "\n",
    "\n",
    "#Month\tMonthly milk production: pounds per cow\tNumber of Cows\tTotal Milk Production\tPrice_Per_Pound\tTotal Revenue\n",
    "#155\t20-Jan\t813.0\t62\t50406.0\t0.32\t16129.92\n",
    "#156\t20-Feb\t834.0\t62\t51708.0\t0.32\t16546.56\n",
    "#157\t20-Mar\t782.0\t62\t48484.0\t0.32\t15514.88\n",
    "#158\t20-Apr\t892.0\t62\t55304.0\t0.32\t17697.28\n",
    "#159\t20-May\t903.0\t62\t55986.0\t0.32\t17915.52\n",
    "#160\t20-Jun\t966.0\t62\t59892.0\t0.32\t19165.44\n",
    "#161\t20-Jul\t937.0\t62\t58094.0\t0.32\t18590.08\n",
    "#162\t20-Aug\t896.0\t62\t55552.0\t0.32\t17776.64\n",
    "#163\t20-Sep\t858.0\t62\t53196.0\t0.32\t17022.72\n",
    "#164\t20-Oct\t755.5\t62\t46841.0\t0.32\t14989.12\n",
    "#165\t20-Nov\t755.5\t62\t46841.0\t0.32\t14989.12\n",
    "#166\t20-Dec\t797.0\t62\t49414.0\t0.32\t15812.48"
   ]
  }
 ],
 "metadata": {
  "kernelspec": {
   "display_name": "Python 3",
   "language": "python",
   "name": "python3"
  },
  "language_info": {
   "codemirror_mode": {
    "name": "ipython",
    "version": 3
   },
   "file_extension": ".py",
   "mimetype": "text/x-python",
   "name": "python",
   "nbconvert_exporter": "python",
   "pygments_lexer": "ipython3",
   "version": "3.7.3"
  }
 },
 "nbformat": 4,
 "nbformat_minor": 2
}
