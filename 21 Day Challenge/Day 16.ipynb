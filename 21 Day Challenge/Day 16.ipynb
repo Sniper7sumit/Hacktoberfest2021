{
 "cells": [
  {
   "cell_type": "markdown",
   "metadata": {},
   "source": [
    "Challenge\n",
    "Create a boxplot to answer the following questions:\n",
    "\n",
    "How many books have over 4000 pages?\n",
    "\n",
    "Note: Do not use a fitler, use a boxplot.\n",
    "\n",
    "What are the average ratings for books that have over 4000 pages?\n",
    "\n",
    "Note: You can use a filter for question 2."
   ]
  },
  {
   "cell_type": "code",
   "execution_count": null,
   "metadata": {},
   "outputs": [],
   "source": [
    "import pandas as pd\n",
    "import matplotlib.pyplot as plt"
   ]
  },
  {
   "cell_type": "code",
   "execution_count": null,
   "metadata": {},
   "outputs": [],
   "source": [
    "df = pd.read_csv(\"books.csv\")"
   ]
  },
  {
   "cell_type": "code",
   "execution_count": null,
   "metadata": {},
   "outputs": [],
   "source": [
    "#Solution\n",
    "df.head(2)\n",
    "\n",
    "#bookID\ttitle\tauthors\taverage_rating\tisbn\tisbn13\tlanguage_code\tnum_pages\tratings_count\ttext_reviews_count\tpublication_date\tpublisher\n",
    "#0\t1\tHarry Potter and the Half-Blood Prince (Harry ...\tJ.K. Rowling/Mary GrandPré\t4.57\t0439785960\t9780439785969\teng\t652\t2095690\t27591\t9/16/2006\tScholastic Inc.\n",
    "#1\t2\tHarry Potter and the Order of the Phoenix (Har...\tJ.K. Rowling/Mary GrandPré\t4.49\t0439358078\t9780439358071\teng\t870\t2153167\t29221\t9/1/2004\tScholastic Inc."
   ]
  },
  {
   "cell_type": "code",
   "execution_count": null,
   "metadata": {},
   "outputs": [],
   "source": [
    "df.columns\n",
    "\n",
    "#Index(['bookID', 'title', 'authors', 'average_rating', 'isbn', 'isbn13',\n",
    "#       'language_code', 'num_pages', 'ratings_count', 'text_reviews_count',\n",
    "#       'publication_date', 'publisher'],\n",
    "#      dtype='object')"
   ]
  },
  {
   "cell_type": "code",
   "execution_count": null,
   "metadata": {},
   "outputs": [],
   "source": [
    "plt.figure(figsize = (14,4))\n",
    "plt.boxplot(df['num_pages'], vert = False)\n",
    "plt.show()"
   ]
  },
  {
   "cell_type": "code",
   "execution_count": null,
   "metadata": {},
   "outputs": [],
   "source": [
    "filter_pages = df['num_pages'] > 3000\n",
    "df_2 = df[filter_pages]"
   ]
  },
  {
   "cell_type": "code",
   "execution_count": null,
   "metadata": {},
   "outputs": [],
   "source": [
    "df_2.sort_values(by = 'num_pages', ascending = False)\n",
    "\n",
    "#\tbookID\ttitle\tauthors\taverage_rating\tisbn\tisbn13\tlanguage_code\tnum_pages\tratings_count\ttext_reviews_count\tpublication_date\tpublisher\n",
    "#6497\t24520\tThe Complete Aubrey/Maturin Novels (5 Volumes)\tPatrick O'Brian\t4.70\t039306011X\t9780393060119\teng\t6576\t1338\t81\t10/17/2004\tW. W. Norton Company\n",
    "#6802\t25587\tThe Second World War\tWinston S. Churchill/John Keegan\t4.45\t039541685X\t9780395416853\teng\t4736\t1493\t99\t5/9/1986\tMariner Books\n",
    "#10906\t44613\tRemembrance of Things Past (Boxed Set)\tMarcel Proust/C.K. Scott Moncrieff/Frederick A...\t4.34\t0701125594\t9780701125592\teng\t3400\t6\t1\t3/5/1981\tChatto & Windus\n",
    "#6\t10\tHarry Potter Collection (Harry Potter #1-6)\tJ.K. Rowling\t4.73\t0439827604\t9780439827607\teng\t3342\t28242\t808\t9/12/2005\tScholastic\n",
    "#6822\t25709\tSumma Theologica 5 Vols\tThomas Aquinas\t4.12\t0870610635\t9780870610639\teng\t3020\t2734\t84\t1/1/1981\tChristian Classics"
   ]
  }
 ],
 "metadata": {
  "kernelspec": {
   "display_name": "Python 3",
   "language": "python",
   "name": "python3"
  },
  "language_info": {
   "codemirror_mode": {
    "name": "ipython",
    "version": 3
   },
   "file_extension": ".py",
   "mimetype": "text/x-python",
   "name": "python",
   "nbconvert_exporter": "python",
   "pygments_lexer": "ipython3",
   "version": "3.7.3"
  }
 },
 "nbformat": 4,
 "nbformat_minor": 2
}
