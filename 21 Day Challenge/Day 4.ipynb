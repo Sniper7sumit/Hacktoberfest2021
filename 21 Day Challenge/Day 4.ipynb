{
 "cells": [
  {
   "cell_type": "markdown",
   "metadata": {},
   "source": [
    "Challenge:\n",
    "Dot needs to purchase:\n",
    "\n",
    "600 planks of Oak Wood\n",
    "150 liters of Blue Paint\n",
    "15 liters of White Paint\n",
    "165 liters of Paint Finish\n",
    "Item\tNeeded Amount to Buy\tWholesale Price\tRetail Price\n",
    "Plank of Oak Wood\t600\t$ 7000\t$ 12.99\n",
    "1 Liter of Blue Paint\t150\t$ 1000\t$ 8.99\n",
    "1 Liter of White Paint\t15\t$ 1000\t$ 9.99\n",
    "1 Liter of Paint Finish\t165\t$ 800\t$ 3.99\n",
    "Use a loop to determine the price Dot would pay for purchasing supplies at the retail price. Based on that calculation, which itmes should Dot buy at retail vs. wholesale?\n",
    "\n",
    "Note: Assume the wholesale price covers all the supply Dot needs for each item, whereas the retail price is per single unit."
   ]
  },
  {
   "cell_type": "code",
   "execution_count": 1,
   "metadata": {},
   "outputs": [],
   "source": [
    "item_list = ['Oak Wood', 'Blue Paint', 'White Paint', 'Paint Finish']\n",
    "\n",
    "amount_list = [600,150,15,165]\n",
    "\n",
    "wholesale_price_list = [7000, 1000, 1000, 800]\n",
    "\n",
    "retail_price = [12.99, 8.99, 9.99, 3.99]"
   ]
  },
  {
   "cell_type": "code",
   "execution_count": 2,
   "metadata": {},
   "outputs": [],
   "source": [
    "#Solution\n",
    "full_price = []\n",
    "\n",
    "for i in range(len(item_list)):\n",
    "    \n",
    "    total_price = amount_list[i] * retail_price[i]\n",
    "    full_price.append(total_price)"
   ]
  },
  {
   "cell_type": "code",
   "execution_count": 3,
   "metadata": {},
   "outputs": [
    {
     "name": "stdout",
     "output_type": "stream",
     "text": [
      "[7794.0, 1348.5, 149.85, 658.35]\n"
     ]
    }
   ],
   "source": [
    "print(full_price)"
   ]
  }
 ],
 "metadata": {
  "kernelspec": {
   "display_name": "Python 3",
   "language": "python",
   "name": "python3"
  },
  "language_info": {
   "codemirror_mode": {
    "name": "ipython",
    "version": 3
   },
   "file_extension": ".py",
   "mimetype": "text/x-python",
   "name": "python",
   "nbconvert_exporter": "python",
   "pygments_lexer": "ipython3",
   "version": "3.7.3"
  }
 },
 "nbformat": 4,
 "nbformat_minor": 2
}
